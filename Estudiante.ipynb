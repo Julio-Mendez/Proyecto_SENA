{
 "cells": [
  {
   "cell_type": "code",
   "execution_count": 1,
   "metadata": {},
   "outputs": [],
   "source": [
    "import pandas as pd\n",
    "import matplotlib.pyplot as plt\n",
    "import seaborn as sb\n",
    "import numpy as np\n",
    "import glob\n",
    "import os"
   ]
  },
  {
   "cell_type": "code",
   "execution_count": 2,
   "metadata": {},
   "outputs": [],
   "source": [
    "carpeta = \"./DATOS/\""
   ]
  },
  {
   "cell_type": "code",
   "execution_count": 3,
   "metadata": {},
   "outputs": [],
   "source": [
    "def convertir_to_DataFrame(name_file: str):\n",
    "\n",
    "    file1 = pd.read_excel(name_file,)\n",
    "    df = pd.DataFrame(file1)\n",
    "    return df"
   ]
  },
  {
   "cell_type": "code",
   "execution_count": 4,
   "metadata": {},
   "outputs": [],
   "source": [
    "documento = \"./DATOS/MATRICULADOS_DETALLADO.xlsx\"\n",
    "df1 = convertir_to_DataFrame(documento)"
   ]
  },
  {
   "cell_type": "code",
   "execution_count": 5,
   "metadata": {},
   "outputs": [
    {
     "data": {
      "text/html": [
       "<div>\n",
       "<style scoped>\n",
       "    .dataframe tbody tr th:only-of-type {\n",
       "        vertical-align: middle;\n",
       "    }\n",
       "\n",
       "    .dataframe tbody tr th {\n",
       "        vertical-align: top;\n",
       "    }\n",
       "\n",
       "    .dataframe thead th {\n",
       "        text-align: right;\n",
       "    }\n",
       "</style>\n",
       "<table border=\"1\" class=\"dataframe\">\n",
       "  <thead>\n",
       "    <tr style=\"text-align: right;\">\n",
       "      <th></th>\n",
       "      <th>CODIGO_SEDE</th>\n",
       "      <th>SEDE</th>\n",
       "      <th>CODIGO_REGIONAL</th>\n",
       "      <th>REGIONAL</th>\n",
       "      <th>FICHA</th>\n",
       "      <th>ESTADO_FICHA</th>\n",
       "      <th>CODIGO_PROGRAMA</th>\n",
       "      <th>VERSION_PROGRANA</th>\n",
       "      <th>PROGRAMA</th>\n",
       "      <th>NIVEL_DE_FORMACION</th>\n",
       "      <th>...</th>\n",
       "      <th>NOMBRE</th>\n",
       "      <th>PRIMER_APELLIDO</th>\n",
       "      <th>SEGUNDO_APELLIDO</th>\n",
       "      <th>ESTADO_APRENDIZ</th>\n",
       "      <th>IDENTIFICADOR_CONVENIO</th>\n",
       "      <th>AMPLIACION_COVERTURA</th>\n",
       "      <th>CONVENIO</th>\n",
       "      <th>TIPO_DOCUMENTO_EMPRESA</th>\n",
       "      <th>NUMERO_DOCUMENTO_EMPRESA</th>\n",
       "      <th>EMPRESA</th>\n",
       "    </tr>\n",
       "  </thead>\n",
       "  <tbody>\n",
       "    <tr>\n",
       "      <th>0</th>\n",
       "      <td>9221</td>\n",
       "      <td>CENTRO DE TELEINFORMÁTICA Y PRODUCCIÓN INDUSTRIAL</td>\n",
       "      <td>19</td>\n",
       "      <td>REGIONAL CAUCA</td>\n",
       "      <td>2770198</td>\n",
       "      <td>En ejecucion</td>\n",
       "      <td>223104</td>\n",
       "      <td>1</td>\n",
       "      <td>CONSTRUCCION EN EDIFICACIONES.</td>\n",
       "      <td>TECNÓLOGO</td>\n",
       "      <td>...</td>\n",
       "      <td>ALEXIS ALBERTO</td>\n",
       "      <td>OJEDA</td>\n",
       "      <td>NARVAEZ</td>\n",
       "      <td>Formacion</td>\n",
       "      <td>4</td>\n",
       "      <td>NO</td>\n",
       "      <td>CURSOS FIC</td>\n",
       "      <td>NaN</td>\n",
       "      <td>NaN</td>\n",
       "      <td>NaN</td>\n",
       "    </tr>\n",
       "    <tr>\n",
       "      <th>1</th>\n",
       "      <td>9221</td>\n",
       "      <td>CENTRO DE TELEINFORMÁTICA Y PRODUCCIÓN INDUSTRIAL</td>\n",
       "      <td>19</td>\n",
       "      <td>REGIONAL CAUCA</td>\n",
       "      <td>2770198</td>\n",
       "      <td>En ejecucion</td>\n",
       "      <td>223104</td>\n",
       "      <td>1</td>\n",
       "      <td>CONSTRUCCION EN EDIFICACIONES.</td>\n",
       "      <td>TECNÓLOGO</td>\n",
       "      <td>...</td>\n",
       "      <td>DIEGO ARMANDO</td>\n",
       "      <td>HURTADO</td>\n",
       "      <td>MOSQUERA</td>\n",
       "      <td>Formacion</td>\n",
       "      <td>4</td>\n",
       "      <td>NO</td>\n",
       "      <td>CURSOS FIC</td>\n",
       "      <td>NaN</td>\n",
       "      <td>NaN</td>\n",
       "      <td>NaN</td>\n",
       "    </tr>\n",
       "    <tr>\n",
       "      <th>2</th>\n",
       "      <td>9221</td>\n",
       "      <td>CENTRO DE TELEINFORMÁTICA Y PRODUCCIÓN INDUSTRIAL</td>\n",
       "      <td>19</td>\n",
       "      <td>REGIONAL CAUCA</td>\n",
       "      <td>2770198</td>\n",
       "      <td>En ejecucion</td>\n",
       "      <td>223104</td>\n",
       "      <td>1</td>\n",
       "      <td>CONSTRUCCION EN EDIFICACIONES.</td>\n",
       "      <td>TECNÓLOGO</td>\n",
       "      <td>...</td>\n",
       "      <td>DAIR FERNEY</td>\n",
       "      <td>PALECHOR</td>\n",
       "      <td>MACA</td>\n",
       "      <td>Formacion</td>\n",
       "      <td>4</td>\n",
       "      <td>NO</td>\n",
       "      <td>CURSOS FIC</td>\n",
       "      <td>NaN</td>\n",
       "      <td>NaN</td>\n",
       "      <td>NaN</td>\n",
       "    </tr>\n",
       "    <tr>\n",
       "      <th>3</th>\n",
       "      <td>9221</td>\n",
       "      <td>CENTRO DE TELEINFORMÁTICA Y PRODUCCIÓN INDUSTRIAL</td>\n",
       "      <td>19</td>\n",
       "      <td>REGIONAL CAUCA</td>\n",
       "      <td>2770198</td>\n",
       "      <td>En ejecucion</td>\n",
       "      <td>223104</td>\n",
       "      <td>1</td>\n",
       "      <td>CONSTRUCCION EN EDIFICACIONES.</td>\n",
       "      <td>TECNÓLOGO</td>\n",
       "      <td>...</td>\n",
       "      <td>ALEXANDER</td>\n",
       "      <td>CHANTRE</td>\n",
       "      <td>CUASTUMAL</td>\n",
       "      <td>Formacion</td>\n",
       "      <td>4</td>\n",
       "      <td>NO</td>\n",
       "      <td>CURSOS FIC</td>\n",
       "      <td>NaN</td>\n",
       "      <td>NaN</td>\n",
       "      <td>NaN</td>\n",
       "    </tr>\n",
       "    <tr>\n",
       "      <th>4</th>\n",
       "      <td>9221</td>\n",
       "      <td>CENTRO DE TELEINFORMÁTICA Y PRODUCCIÓN INDUSTRIAL</td>\n",
       "      <td>19</td>\n",
       "      <td>REGIONAL CAUCA</td>\n",
       "      <td>2770198</td>\n",
       "      <td>En ejecucion</td>\n",
       "      <td>223104</td>\n",
       "      <td>1</td>\n",
       "      <td>CONSTRUCCION EN EDIFICACIONES.</td>\n",
       "      <td>TECNÓLOGO</td>\n",
       "      <td>...</td>\n",
       "      <td>JUAN DAVID</td>\n",
       "      <td>SANCHEZ</td>\n",
       "      <td>SILVA</td>\n",
       "      <td>Formacion</td>\n",
       "      <td>4</td>\n",
       "      <td>NO</td>\n",
       "      <td>CURSOS FIC</td>\n",
       "      <td>NaN</td>\n",
       "      <td>NaN</td>\n",
       "      <td>NaN</td>\n",
       "    </tr>\n",
       "  </tbody>\n",
       "</table>\n",
       "<p>5 rows × 22 columns</p>\n",
       "</div>"
      ],
      "text/plain": [
       "   CODIGO_SEDE                                               SEDE  \\\n",
       "0         9221  CENTRO DE TELEINFORMÁTICA Y PRODUCCIÓN INDUSTRIAL   \n",
       "1         9221  CENTRO DE TELEINFORMÁTICA Y PRODUCCIÓN INDUSTRIAL   \n",
       "2         9221  CENTRO DE TELEINFORMÁTICA Y PRODUCCIÓN INDUSTRIAL   \n",
       "3         9221  CENTRO DE TELEINFORMÁTICA Y PRODUCCIÓN INDUSTRIAL   \n",
       "4         9221  CENTRO DE TELEINFORMÁTICA Y PRODUCCIÓN INDUSTRIAL   \n",
       "\n",
       "   CODIGO_REGIONAL        REGIONAL    FICHA  ESTADO_FICHA  CODIGO_PROGRAMA  \\\n",
       "0               19  REGIONAL CAUCA  2770198  En ejecucion           223104   \n",
       "1               19  REGIONAL CAUCA  2770198  En ejecucion           223104   \n",
       "2               19  REGIONAL CAUCA  2770198  En ejecucion           223104   \n",
       "3               19  REGIONAL CAUCA  2770198  En ejecucion           223104   \n",
       "4               19  REGIONAL CAUCA  2770198  En ejecucion           223104   \n",
       "\n",
       "   VERSION_PROGRANA                        PROGRAMA NIVEL_DE_FORMACION  ...  \\\n",
       "0                 1  CONSTRUCCION EN EDIFICACIONES.          TECNÓLOGO  ...   \n",
       "1                 1  CONSTRUCCION EN EDIFICACIONES.          TECNÓLOGO  ...   \n",
       "2                 1  CONSTRUCCION EN EDIFICACIONES.          TECNÓLOGO  ...   \n",
       "3                 1  CONSTRUCCION EN EDIFICACIONES.          TECNÓLOGO  ...   \n",
       "4                 1  CONSTRUCCION EN EDIFICACIONES.          TECNÓLOGO  ...   \n",
       "\n",
       "           NOMBRE  PRIMER_APELLIDO SEGUNDO_APELLIDO ESTADO_APRENDIZ  \\\n",
       "0  ALEXIS ALBERTO            OJEDA          NARVAEZ       Formacion   \n",
       "1   DIEGO ARMANDO          HURTADO         MOSQUERA       Formacion   \n",
       "2     DAIR FERNEY         PALECHOR             MACA       Formacion   \n",
       "3       ALEXANDER          CHANTRE        CUASTUMAL       Formacion   \n",
       "4      JUAN DAVID          SANCHEZ            SILVA       Formacion   \n",
       "\n",
       "  IDENTIFICADOR_CONVENIO AMPLIACION_COVERTURA    CONVENIO  \\\n",
       "0                      4                   NO  CURSOS FIC   \n",
       "1                      4                   NO  CURSOS FIC   \n",
       "2                      4                   NO  CURSOS FIC   \n",
       "3                      4                   NO  CURSOS FIC   \n",
       "4                      4                   NO  CURSOS FIC   \n",
       "\n",
       "  TIPO_DOCUMENTO_EMPRESA NUMERO_DOCUMENTO_EMPRESA  EMPRESA  \n",
       "0                    NaN                      NaN      NaN  \n",
       "1                    NaN                      NaN      NaN  \n",
       "2                    NaN                      NaN      NaN  \n",
       "3                    NaN                      NaN      NaN  \n",
       "4                    NaN                      NaN      NaN  \n",
       "\n",
       "[5 rows x 22 columns]"
      ]
     },
     "execution_count": 5,
     "metadata": {},
     "output_type": "execute_result"
    }
   ],
   "source": [
    "df1.head()"
   ]
  },
  {
   "cell_type": "code",
   "execution_count": 6,
   "metadata": {},
   "outputs": [
    {
     "name": "stdout",
     "output_type": "stream",
     "text": [
      "<class 'pandas.core.frame.DataFrame'>\n",
      "RangeIndex: 33051 entries, 0 to 33050\n",
      "Data columns (total 22 columns):\n",
      " #   Column                    Non-Null Count  Dtype  \n",
      "---  ------                    --------------  -----  \n",
      " 0   CODIGO_SEDE               33051 non-null  int64  \n",
      " 1   SEDE                      33051 non-null  object \n",
      " 2   CODIGO_REGIONAL           33051 non-null  int64  \n",
      " 3   REGIONAL                  33051 non-null  object \n",
      " 4   FICHA                     33051 non-null  int64  \n",
      " 5   ESTADO_FICHA              33051 non-null  object \n",
      " 6   CODIGO_PROGRAMA           33051 non-null  int64  \n",
      " 7   VERSION_PROGRANA          33051 non-null  int64  \n",
      " 8   PROGRAMA                  33051 non-null  object \n",
      " 9   NIVEL_DE_FORMACION        33051 non-null  object \n",
      " 10  TIPO_DOCUMENTO            33051 non-null  object \n",
      " 11  NUMERO_DOCUMENTO          33051 non-null  int64  \n",
      " 12  NOMBRE                    33051 non-null  object \n",
      " 13  PRIMER_APELLIDO           33051 non-null  object \n",
      " 14  SEGUNDO_APELLIDO          32170 non-null  object \n",
      " 15  ESTADO_APRENDIZ           33051 non-null  object \n",
      " 16  IDENTIFICADOR_CONVENIO    33051 non-null  int64  \n",
      " 17  AMPLIACION_COVERTURA      1749 non-null   object \n",
      " 18  CONVENIO                  1749 non-null   object \n",
      " 19  TIPO_DOCUMENTO_EMPRESA    0 non-null      float64\n",
      " 20  NUMERO_DOCUMENTO_EMPRESA  0 non-null      float64\n",
      " 21  EMPRESA                   0 non-null      float64\n",
      "dtypes: float64(3), int64(7), object(12)\n",
      "memory usage: 5.5+ MB\n"
     ]
    }
   ],
   "source": [
    "df1.info()"
   ]
  },
  {
   "cell_type": "code",
   "execution_count": 7,
   "metadata": {},
   "outputs": [
    {
     "data": {
      "text/plain": [
       "['CODIGO_SEDE',\n",
       " 'SEDE',\n",
       " 'CODIGO_REGIONAL',\n",
       " 'REGIONAL',\n",
       " 'FICHA',\n",
       " 'ESTADO_FICHA',\n",
       " 'CODIGO_PROGRAMA',\n",
       " 'VERSION_PROGRANA',\n",
       " 'PROGRAMA',\n",
       " 'NIVEL_DE_FORMACION',\n",
       " 'TIPO_DOCUMENTO',\n",
       " 'NUMERO_DOCUMENTO',\n",
       " 'NOMBRE',\n",
       " 'PRIMER_APELLIDO',\n",
       " 'SEGUNDO_APELLIDO',\n",
       " 'ESTADO_APRENDIZ',\n",
       " 'IDENTIFICADOR_CONVENIO',\n",
       " 'AMPLIACION_COVERTURA',\n",
       " 'CONVENIO',\n",
       " 'TIPO_DOCUMENTO_EMPRESA',\n",
       " 'NUMERO_DOCUMENTO_EMPRESA',\n",
       " 'EMPRESA']"
      ]
     },
     "execution_count": 7,
     "metadata": {},
     "output_type": "execute_result"
    }
   ],
   "source": [
    "df1.columns.to_list()"
   ]
  },
  {
   "cell_type": "code",
   "execution_count": 8,
   "metadata": {},
   "outputs": [],
   "source": [
    "def all_files(carpeta):\n",
    "    BD = {}\n",
    "    name_rows = {}\n",
    "    # Iterar sobre los archivos en la carpeta\n",
    "    for archivo in glob.glob(os.path.join(carpeta, \"*.xlsx\")):\n",
    "        if os.path.isfile(archivo):\n",
    "            name_file = archivo.split(\"/\", maxsplit=2)[2].split(\".\")[0]\n",
    "            print(name_file)\n",
    "            df = convertir_to_DataFrame(archivo)\n",
    "            name_rows[name_file] = df.columns.to_list()\n",
    "            BD[name_file] = df\n",
    "    return name_rows, BD"
   ]
  },
  {
   "cell_type": "code",
   "execution_count": 9,
   "metadata": {},
   "outputs": [
    {
     "data": {
      "text/plain": [
       "['CODIGO_SEDE',\n",
       " 'SEDE',\n",
       " 'CODIGO_REGIONAL',\n",
       " 'REGIONAL',\n",
       " 'FICHA',\n",
       " 'ESTADO_FICHA',\n",
       " 'CODIGO_PROGRAMA',\n",
       " 'VERSION_PROGRANA',\n",
       " 'PROGRAMA',\n",
       " 'NIVEL_DE_FORMACION',\n",
       " 'TIPO_DOCUMENTO',\n",
       " 'NUMERO_DOCUMENTO',\n",
       " 'NOMBRE',\n",
       " 'PRIMER_APELLIDO',\n",
       " 'SEGUNDO_APELLIDO',\n",
       " 'ESTADO_APRENDIZ',\n",
       " 'IDENTIFICADOR_CONVENIO',\n",
       " 'AMPLIACION_COVERTURA',\n",
       " 'CONVENIO',\n",
       " 'TIPO_DOCUMENTO_EMPRESA',\n",
       " 'NUMERO_DOCUMENTO_EMPRESA',\n",
       " 'EMPRESA']"
      ]
     },
     "execution_count": 9,
     "metadata": {},
     "output_type": "execute_result"
    }
   ],
   "source": [
    "df1.columns.to_list()"
   ]
  },
  {
   "cell_type": "code",
   "execution_count": 10,
   "metadata": {},
   "outputs": [],
   "source": [
    "df = df1[\n",
    "    [\n",
    "        \"NUMERO_DOCUMENTO\",\n",
    "        \"ESTADO_APRENDIZ\",\n",
    "        \"FICHA\",\n",
    "        \"CODIGO_PROGRAMA\",\n",
    "        \"PROGRAMA\",\n",
    "        \"NIVEL_DE_FORMACION\",\n",
    "    ]\n",
    "]"
   ]
  },
  {
   "cell_type": "code",
   "execution_count": 11,
   "metadata": {},
   "outputs": [
    {
     "data": {
      "text/plain": [
       "array(['Formacion', 'Retiro voluntario', 'Por certificar', 'Traslado',\n",
       "       'Certificado', 'Aplazado', 'Condicionado', 'En transito',\n",
       "       'Induccion', 'Cancelado'], dtype=object)"
      ]
     },
     "execution_count": 11,
     "metadata": {},
     "output_type": "execute_result"
    }
   ],
   "source": [
    "df['ESTADO_APRENDIZ'].unique()"
   ]
  },
  {
   "cell_type": "code",
   "execution_count": 15,
   "metadata": {},
   "outputs": [],
   "source": [
    "estados = [\n",
    "    \"Retiro voluntario\",\n",
    "    \"Traslado\",\n",
    "    \"Aplazado\",\n",
    "    \"Condicionado\",\n",
    "    \"Cancelado\",\n",
    "]\n",
    "filtro = lambda x: x in estados\n",
    "df = df[list(map(filtro, df[\"ESTADO_APRENDIZ\"]))]"
   ]
  },
  {
   "cell_type": "code",
   "execution_count": 16,
   "metadata": {},
   "outputs": [
    {
     "data": {
      "text/plain": [
       "array(['Retiro voluntario', 'Traslado', 'Aplazado', 'Condicionado',\n",
       "       'Cancelado'], dtype=object)"
      ]
     },
     "execution_count": 16,
     "metadata": {},
     "output_type": "execute_result"
    }
   ],
   "source": [
    "df[\"ESTADO_APRENDIZ\"].unique()"
   ]
  },
  {
   "cell_type": "code",
   "execution_count": 17,
   "metadata": {},
   "outputs": [
    {
     "name": "stdout",
     "output_type": "stream",
     "text": [
      "<class 'pandas.core.frame.DataFrame'>\n",
      "Index: 5422 entries, 10 to 32999\n",
      "Data columns (total 6 columns):\n",
      " #   Column              Non-Null Count  Dtype \n",
      "---  ------              --------------  ----- \n",
      " 0   NUMERO_DOCUMENTO    5422 non-null   int64 \n",
      " 1   ESTADO_APRENDIZ     5422 non-null   object\n",
      " 2   FICHA               5422 non-null   int64 \n",
      " 3   CODIGO_PROGRAMA     5422 non-null   int64 \n",
      " 4   PROGRAMA            5422 non-null   object\n",
      " 5   NIVEL_DE_FORMACION  5422 non-null   object\n",
      "dtypes: int64(3), object(3)\n",
      "memory usage: 296.5+ KB\n"
     ]
    }
   ],
   "source": [
    "df.info()"
   ]
  },
  {
   "cell_type": "code",
   "execution_count": 18,
   "metadata": {},
   "outputs": [
    {
     "data": {
      "text/html": [
       "<div>\n",
       "<style scoped>\n",
       "    .dataframe tbody tr th:only-of-type {\n",
       "        vertical-align: middle;\n",
       "    }\n",
       "\n",
       "    .dataframe tbody tr th {\n",
       "        vertical-align: top;\n",
       "    }\n",
       "\n",
       "    .dataframe thead th {\n",
       "        text-align: right;\n",
       "    }\n",
       "</style>\n",
       "<table border=\"1\" class=\"dataframe\">\n",
       "  <thead>\n",
       "    <tr style=\"text-align: right;\">\n",
       "      <th></th>\n",
       "      <th>NUMERO_DOCUMENTO</th>\n",
       "      <th>ESTADO_APRENDIZ</th>\n",
       "      <th>FICHA</th>\n",
       "      <th>CODIGO_PROGRAMA</th>\n",
       "      <th>PROGRAMA</th>\n",
       "      <th>NIVEL_DE_FORMACION</th>\n",
       "    </tr>\n",
       "  </thead>\n",
       "  <tbody>\n",
       "    <tr>\n",
       "      <th>32189</th>\n",
       "      <td>1059981249</td>\n",
       "      <td>Retiro voluntario</td>\n",
       "      <td>2557764</td>\n",
       "      <td>525203</td>\n",
       "      <td>ENTRENAMIENTO DEPORTIVO</td>\n",
       "      <td>TECNÓLOGO</td>\n",
       "    </tr>\n",
       "    <tr>\n",
       "      <th>32993</th>\n",
       "      <td>55176140</td>\n",
       "      <td>Retiro voluntario</td>\n",
       "      <td>2834795</td>\n",
       "      <td>228123</td>\n",
       "      <td>PROGRAMACION DE APLICACIONES PARA DISPOSITIVOS...</td>\n",
       "      <td>TÉCNICO</td>\n",
       "    </tr>\n",
       "    <tr>\n",
       "      <th>1876</th>\n",
       "      <td>1002819596</td>\n",
       "      <td>Retiro voluntario</td>\n",
       "      <td>2452442</td>\n",
       "      <td>228106</td>\n",
       "      <td>ANALISIS Y DESARROLLO DE SISTEMAS DE INFORMACION</td>\n",
       "      <td>TECNÓLOGO</td>\n",
       "    </tr>\n",
       "    <tr>\n",
       "      <th>14259</th>\n",
       "      <td>1061200980</td>\n",
       "      <td>Retiro voluntario</td>\n",
       "      <td>2874969</td>\n",
       "      <td>525203</td>\n",
       "      <td>ENTRENAMIENTO DEPORTIVO</td>\n",
       "      <td>TECNÓLOGO</td>\n",
       "    </tr>\n",
       "    <tr>\n",
       "      <th>3255</th>\n",
       "      <td>1061811503</td>\n",
       "      <td>Cancelado</td>\n",
       "      <td>2934747</td>\n",
       "      <td>21730025</td>\n",
       "      <td>CONTROLES Y SEGURIDAD INFORMATICA</td>\n",
       "      <td>COMPLEMENTARIA VIRTUAL</td>\n",
       "    </tr>\n",
       "  </tbody>\n",
       "</table>\n",
       "</div>"
      ],
      "text/plain": [
       "       NUMERO_DOCUMENTO    ESTADO_APRENDIZ    FICHA  CODIGO_PROGRAMA  \\\n",
       "32189        1059981249  Retiro voluntario  2557764           525203   \n",
       "32993          55176140  Retiro voluntario  2834795           228123   \n",
       "1876         1002819596  Retiro voluntario  2452442           228106   \n",
       "14259        1061200980  Retiro voluntario  2874969           525203   \n",
       "3255         1061811503          Cancelado  2934747         21730025   \n",
       "\n",
       "                                                PROGRAMA  \\\n",
       "32189                            ENTRENAMIENTO DEPORTIVO   \n",
       "32993  PROGRAMACION DE APLICACIONES PARA DISPOSITIVOS...   \n",
       "1876    ANALISIS Y DESARROLLO DE SISTEMAS DE INFORMACION   \n",
       "14259                            ENTRENAMIENTO DEPORTIVO   \n",
       "3255                   CONTROLES Y SEGURIDAD INFORMATICA   \n",
       "\n",
       "           NIVEL_DE_FORMACION  \n",
       "32189               TECNÓLOGO  \n",
       "32993                 TÉCNICO  \n",
       "1876                TECNÓLOGO  \n",
       "14259               TECNÓLOGO  \n",
       "3255   COMPLEMENTARIA VIRTUAL  "
      ]
     },
     "execution_count": 18,
     "metadata": {},
     "output_type": "execute_result"
    }
   ],
   "source": [
    "df.sample(5)"
   ]
  },
  {
   "cell_type": "code",
   "execution_count": 19,
   "metadata": {},
   "outputs": [
    {
     "data": {
      "text/plain": [
       "ESTADO_APRENDIZ\n",
       "Aplazado               45\n",
       "Cancelado            4193\n",
       "Condicionado           46\n",
       "Retiro voluntario    1082\n",
       "Traslado               56\n",
       "Name: ESTADO_APRENDIZ, dtype: int64"
      ]
     },
     "execution_count": 19,
     "metadata": {},
     "output_type": "execute_result"
    }
   ],
   "source": [
    "df.groupby([\"ESTADO_APRENDIZ\"])[\"ESTADO_APRENDIZ\"].count()"
   ]
  },
  {
   "cell_type": "code",
   "execution_count": 37,
   "metadata": {},
   "outputs": [
    {
     "data": {
      "text/plain": [
       "PROGRAMA\n",
       "CONTROLES Y SEGURIDAD INFORMATICA                                                         600\n",
       "METODOLOGIA DE LA PROGRAMACION DE SISTEMAS INFORMATICOS                                   573\n",
       "APRENDIZ DIGITAL                                                                          352\n",
       "VARIABLES Y ESTRUCTURAS DE CONTROL EN LA PROGRAMACION ORIENTADA A OBJETOS: JAVA           348\n",
       "AUDITORIA INFORMATICA: CONCEPTUALIZACION                                                  309\n",
       "USO DE EXCEL Y ACCESS PARA EL DESARROLLO DE APLICACIONES ADMINISTRATIVAS EMPRESARIALES    283\n",
       "ESTRUCTURA DEL LENGUAJE DE PROGRAMACION C++ (NIVEL I)                                     258\n",
       "ENGLISH DOES WORK - LEVEL 1                                                               251\n",
       "PROCESOS DE SOPORTE TECNICO PARA EL MANTENIMIENTO DE EQUIPOS DE COMPUTO                   250\n",
       "SISTEMAS.                                                                                 166\n",
       "Name: PROGRAMA, dtype: int64"
      ]
     },
     "execution_count": 37,
     "metadata": {},
     "output_type": "execute_result"
    }
   ],
   "source": [
    "df.groupby([\"PROGRAMA\"])[\"PROGRAMA\"].count().sort_values(ascending=False).head(10)"
   ]
  },
  {
   "cell_type": "code",
   "execution_count": null,
   "metadata": {},
   "outputs": [],
   "source": []
  }
 ],
 "metadata": {
  "kernelspec": {
   "display_name": "ENV_SENA",
   "language": "python",
   "name": "python3"
  },
  "language_info": {
   "codemirror_mode": {
    "name": "ipython",
    "version": 3
   },
   "file_extension": ".py",
   "mimetype": "text/x-python",
   "name": "python",
   "nbconvert_exporter": "python",
   "pygments_lexer": "ipython3",
   "version": "3.10.12"
  }
 },
 "nbformat": 4,
 "nbformat_minor": 2
}
