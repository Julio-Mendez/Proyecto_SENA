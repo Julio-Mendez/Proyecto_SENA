{
    "metadata": {
        "kernelspec": {
            "name": "SQL",
            "display_name": "SQL",
            "language": "sql"
        },
        "language_info": {
            "name": "sql",
            "version": ""
        }
    },
    "nbformat_minor": 2,
    "nbformat": 4,
    "cells": [
        {
            "cell_type": "code",
            "source": [
                "USE AprendicesDB;"
            ],
            "metadata": {
                "azdata_cell_guid": "33a3cf86-5c3a-49cd-b535-f594c6302983",
                "language": "sql"
            },
            "outputs": [],
            "execution_count": null
        },
        {
            "cell_type": "code",
            "source": [
                "--- encontrar duplicados\r\n",
                "WITH DUP\r\n",
                "AS (\r\n",
                "    SELECT tipo_novedad\r\n",
                "        , ROW_NUMBER() OVER (\r\n",
                "            PARTITION BY tipo_novedad ORDER BY tipo_novedad\r\n",
                "            ) AS DUPLICADOS\r\n",
                "    FROM Novedad\r\n",
                "    )\r\n",
                "SELECT *\r\n",
                "FROM DUP\r\n",
                "WHERE DUPLICADOS > 1;\r\n",
                "GO\r\n",
                "\r\n",
                "----ELIMINAR DUPLICAODS\r\n",
                "WITH DUP\r\n",
                "AS (\r\n",
                "    SELECT tipo_novedad\r\n",
                "        , ROW_NUMBER() OVER (\r\n",
                "            PARTITION BY tipo_novedad ORDER BY tipo_novedad\r\n",
                "            ) AS DUPLICADOS\r\n",
                "    FROM Novedad\r\n",
                "    )\r\n",
                "DELETE\r\n",
                "FROM DUP\r\n",
                "WHERE DUPLICADOS > 1;\r\n",
                "GO\r\n",
                "\r\n",
                "\r\n",
                ""
            ],
            "metadata": {
                "azdata_cell_guid": "ae219194-ca05-4f36-b617-c6bc14a235b7",
                "language": "sql"
            },
            "outputs": [
                {
                    "output_type": "display_data",
                    "data": {
                        "text/html": "(480 filas afectadas)"
                    },
                    "metadata": {}
                },
                {
                    "output_type": "display_data",
                    "data": {
                        "text/html": "(480 filas afectadas)"
                    },
                    "metadata": {}
                },
                {
                    "output_type": "display_data",
                    "data": {
                        "text/html": "Tiempo total de ejecución: 00:00:00.024"
                    },
                    "metadata": {}
                },
                {
                    "output_type": "execute_result",
                    "metadata": {},
                    "execution_count": 71,
                    "data": {
                        "application/vnd.dataresource+json": {
                            "schema": {
                                "fields": [
                                    {
                                        "name": "tipo_novedad"
                                    },
                                    {
                                        "name": "DUPLICADOS"
                                    }
                                ]
                            },
                            "data": [
                                {
                                    "tipo_novedad": "A una ficha diferente",
                                    "DUPLICADOS": "2"
                                },
                                {
                                    "tipo_novedad": "A una ficha diferente",
                                    "DUPLICADOS": "3"
                                },
                                {
                                    "tipo_novedad": "Calamidad domestica",
                                    "DUPLICADOS": "2"
                                },
                                {
                                    "tipo_novedad": "Calamidad domestica",
                                    "DUPLICADOS": "3"
                                },
                                {
                                    "tipo_novedad": "Calamidad domestica",
                                    "DUPLICADOS": "4"
                                },
                                {
                                    "tipo_novedad": "Cambio de domicilio",
                                    "DUPLICADOS": "2"
                                },
                                {
                                    "tipo_novedad": "Cambio de domicilio",
                                    "DUPLICADOS": "3"
                                },
                                {
                                    "tipo_novedad": "Concertación Plan de mejoramiento",
                                    "DUPLICADOS": "2"
                                },
                                {
                                    "tipo_novedad": "Concertación Plan de mejoramiento",
                                    "DUPLICADOS": "3"
                                },
                                {
                                    "tipo_novedad": "Concertación Plan de mejoramiento",
                                    "DUPLICADOS": "4"
                                },
                                {
                                    "tipo_novedad": "Concertación Plan de mejoramiento",
                                    "DUPLICADOS": "5"
                                },
                                {
                                    "tipo_novedad": "Concertación Plan de mejoramiento",
                                    "DUPLICADOS": "6"
                                },
                                {
                                    "tipo_novedad": "Concertación Plan de mejoramiento",
                                    "DUPLICADOS": "7"
                                },
                                {
                                    "tipo_novedad": "Concertación Plan de mejoramiento",
                                    "DUPLICADOS": "8"
                                },
                                {
                                    "tipo_novedad": "Cumple con lo solicitado en el condicionamiento",
                                    "DUPLICADOS": "2"
                                },
                                {
                                    "tipo_novedad": "Cumple con lo solicitado en el condicionamiento",
                                    "DUPLICADOS": "3"
                                },
                                {
                                    "tipo_novedad": "Enfermedad",
                                    "DUPLICADOS": "2"
                                },
                                {
                                    "tipo_novedad": "Enfermedad",
                                    "DUPLICADOS": "3"
                                },
                                {
                                    "tipo_novedad": "Enfermedad",
                                    "DUPLICADOS": "4"
                                },
                                {
                                    "tipo_novedad": "Enfermedad",
                                    "DUPLICADOS": "5"
                                },
                                {
                                    "tipo_novedad": "Enfermedad",
                                    "DUPLICADOS": "6"
                                },
                                {
                                    "tipo_novedad": "Enfermedad",
                                    "DUPLICADOS": "7"
                                },
                                {
                                    "tipo_novedad": "Enfermedad",
                                    "DUPLICADOS": "8"
                                },
                                {
                                    "tipo_novedad": "Enfermedad",
                                    "DUPLICADOS": "9"
                                },
                                {
                                    "tipo_novedad": "Licencia de maternidad",
                                    "DUPLICADOS": "2"
                                },
                                {
                                    "tipo_novedad": "Licencia de maternidad",
                                    "DUPLICADOS": "3"
                                },
                                {
                                    "tipo_novedad": "Motivos laborales",
                                    "DUPLICADOS": "2"
                                },
                                {
                                    "tipo_novedad": "Motivos personales",
                                    "DUPLICADOS": "2"
                                },
                                {
                                    "tipo_novedad": "Motivos personales",
                                    "DUPLICADOS": "3"
                                },
                                {
                                    "tipo_novedad": "Motivos personales",
                                    "DUPLICADOS": "4"
                                },
                                {
                                    "tipo_novedad": "Motivos personales",
                                    "DUPLICADOS": "5"
                                },
                                {
                                    "tipo_novedad": "Motivos personales",
                                    "DUPLICADOS": "6"
                                },
                                {
                                    "tipo_novedad": "Motivos personales",
                                    "DUPLICADOS": "7"
                                },
                                {
                                    "tipo_novedad": "Motivos personales",
                                    "DUPLICADOS": "8"
                                },
                                {
                                    "tipo_novedad": "Motivos personales",
                                    "DUPLICADOS": "9"
                                },
                                {
                                    "tipo_novedad": "Motivos personales",
                                    "DUPLICADOS": "10"
                                },
                                {
                                    "tipo_novedad": "Motivos personales",
                                    "DUPLICADOS": "11"
                                },
                                {
                                    "tipo_novedad": "Motivos personales",
                                    "DUPLICADOS": "12"
                                },
                                {
                                    "tipo_novedad": "Motivos personales",
                                    "DUPLICADOS": "13"
                                },
                                {
                                    "tipo_novedad": "Motivos personales",
                                    "DUPLICADOS": "14"
                                },
                                {
                                    "tipo_novedad": "Motivos personales",
                                    "DUPLICADOS": "15"
                                },
                                {
                                    "tipo_novedad": "Motivos personales",
                                    "DUPLICADOS": "16"
                                },
                                {
                                    "tipo_novedad": "Motivos personales",
                                    "DUPLICADOS": "17"
                                },
                                {
                                    "tipo_novedad": "Motivos personales",
                                    "DUPLICADOS": "18"
                                },
                                {
                                    "tipo_novedad": "No inició proceso de formación",
                                    "DUPLICADOS": "2"
                                },
                                {
                                    "tipo_novedad": "No inició proceso de formación",
                                    "DUPLICADOS": "3"
                                },
                                {
                                    "tipo_novedad": "No inició proceso de formación",
                                    "DUPLICADOS": "4"
                                },
                                {
                                    "tipo_novedad": "No inició proceso de formación",
                                    "DUPLICADOS": "5"
                                },
                                {
                                    "tipo_novedad": "No inició proceso de formación",
                                    "DUPLICADOS": "6"
                                },
                                {
                                    "tipo_novedad": "No inició proceso de formación",
                                    "DUPLICADOS": "7"
                                },
                                {
                                    "tipo_novedad": "No inició proceso de formación",
                                    "DUPLICADOS": "8"
                                },
                                {
                                    "tipo_novedad": "No inició proceso de formación",
                                    "DUPLICADOS": "9"
                                },
                                {
                                    "tipo_novedad": "Novedad integración con la media",
                                    "DUPLICADOS": "2"
                                },
                                {
                                    "tipo_novedad": "Novedad integración con la media",
                                    "DUPLICADOS": "3"
                                },
                                {
                                    "tipo_novedad": "Novedad integración con la media",
                                    "DUPLICADOS": "4"
                                },
                                {
                                    "tipo_novedad": "Novedad integración con la media",
                                    "DUPLICADOS": "5"
                                },
                                {
                                    "tipo_novedad": "Novedad integración con la media",
                                    "DUPLICADOS": "6"
                                },
                                {
                                    "tipo_novedad": "Novedad integración con la media",
                                    "DUPLICADOS": "7"
                                },
                                {
                                    "tipo_novedad": "Novedad integración con la media",
                                    "DUPLICADOS": "8"
                                },
                                {
                                    "tipo_novedad": "Novedad integración con la media",
                                    "DUPLICADOS": "9"
                                },
                                {
                                    "tipo_novedad": "Novedad integración con la media",
                                    "DUPLICADOS": "10"
                                },
                                {
                                    "tipo_novedad": "Novedad integración con la media",
                                    "DUPLICADOS": "11"
                                },
                                {
                                    "tipo_novedad": "Novedad integración con la media",
                                    "DUPLICADOS": "12"
                                },
                                {
                                    "tipo_novedad": "Novedad integración con la media",
                                    "DUPLICADOS": "13"
                                },
                                {
                                    "tipo_novedad": "Novedad integración con la media",
                                    "DUPLICADOS": "14"
                                },
                                {
                                    "tipo_novedad": "Novedad integración con la media",
                                    "DUPLICADOS": "15"
                                },
                                {
                                    "tipo_novedad": "Novedad integración con la media",
                                    "DUPLICADOS": "16"
                                },
                                {
                                    "tipo_novedad": "Novedad integración con la media",
                                    "DUPLICADOS": "17"
                                },
                                {
                                    "tipo_novedad": "Novedad integración con la media",
                                    "DUPLICADOS": "18"
                                },
                                {
                                    "tipo_novedad": "Novedad integración con la media",
                                    "DUPLICADOS": "19"
                                },
                                {
                                    "tipo_novedad": "Novedad integración con la media",
                                    "DUPLICADOS": "20"
                                },
                                {
                                    "tipo_novedad": "Novedad integración con la media",
                                    "DUPLICADOS": "21"
                                },
                                {
                                    "tipo_novedad": "Novedad integración con la media",
                                    "DUPLICADOS": "22"
                                },
                                {
                                    "tipo_novedad": "Novedad integración con la media",
                                    "DUPLICADOS": "23"
                                },
                                {
                                    "tipo_novedad": "Novedad integración con la media",
                                    "DUPLICADOS": "24"
                                },
                                {
                                    "tipo_novedad": "Novedad integración con la media",
                                    "DUPLICADOS": "25"
                                },
                                {
                                    "tipo_novedad": "Novedad integración con la media",
                                    "DUPLICADOS": "26"
                                },
                                {
                                    "tipo_novedad": "Novedad integración con la media",
                                    "DUPLICADOS": "27"
                                },
                                {
                                    "tipo_novedad": "Novedad integración con la media",
                                    "DUPLICADOS": "28"
                                },
                                {
                                    "tipo_novedad": "Novedad integración con la media",
                                    "DUPLICADOS": "29"
                                },
                                {
                                    "tipo_novedad": "Novedad integración con la media",
                                    "DUPLICADOS": "30"
                                },
                                {
                                    "tipo_novedad": "Novedad integración con la media",
                                    "DUPLICADOS": "31"
                                },
                                {
                                    "tipo_novedad": "Novedad integración con la media",
                                    "DUPLICADOS": "32"
                                },
                                {
                                    "tipo_novedad": "Novedad integración con la media",
                                    "DUPLICADOS": "33"
                                },
                                {
                                    "tipo_novedad": "Novedad integración con la media",
                                    "DUPLICADOS": "34"
                                },
                                {
                                    "tipo_novedad": "Novedad integración con la media",
                                    "DUPLICADOS": "35"
                                },
                                {
                                    "tipo_novedad": "Novedad integración con la media",
                                    "DUPLICADOS": "36"
                                },
                                {
                                    "tipo_novedad": "Novedad integración con la media",
                                    "DUPLICADOS": "37"
                                },
                                {
                                    "tipo_novedad": "Novedad integración con la media",
                                    "DUPLICADOS": "38"
                                },
                                {
                                    "tipo_novedad": "Novedad integración con la media",
                                    "DUPLICADOS": "39"
                                },
                                {
                                    "tipo_novedad": "Novedad integración con la media",
                                    "DUPLICADOS": "40"
                                },
                                {
                                    "tipo_novedad": "Novedad integración con la media",
                                    "DUPLICADOS": "41"
                                },
                                {
                                    "tipo_novedad": "Novedad integración con la media",
                                    "DUPLICADOS": "42"
                                },
                                {
                                    "tipo_novedad": "Novedad integración con la media",
                                    "DUPLICADOS": "43"
                                },
                                {
                                    "tipo_novedad": "Novedad integración con la media",
                                    "DUPLICADOS": "44"
                                },
                                {
                                    "tipo_novedad": "Novedad integración con la media",
                                    "DUPLICADOS": "45"
                                },
                                {
                                    "tipo_novedad": "Novedad integración con la media",
                                    "DUPLICADOS": "46"
                                },
                                {
                                    "tipo_novedad": "Novedad integración con la media",
                                    "DUPLICADOS": "47"
                                },
                                {
                                    "tipo_novedad": "Novedad integración con la media",
                                    "DUPLICADOS": "48"
                                },
                                {
                                    "tipo_novedad": "Novedad integración con la media",
                                    "DUPLICADOS": "49"
                                },
                                {
                                    "tipo_novedad": "Novedad integración con la media",
                                    "DUPLICADOS": "50"
                                },
                                {
                                    "tipo_novedad": "Novedad integración con la media",
                                    "DUPLICADOS": "51"
                                },
                                {
                                    "tipo_novedad": "Novedad integración con la media",
                                    "DUPLICADOS": "52"
                                },
                                {
                                    "tipo_novedad": "Novedad integración con la media",
                                    "DUPLICADOS": "53"
                                },
                                {
                                    "tipo_novedad": "Novedad integración con la media",
                                    "DUPLICADOS": "54"
                                },
                                {
                                    "tipo_novedad": "Novedad integración con la media",
                                    "DUPLICADOS": "55"
                                },
                                {
                                    "tipo_novedad": "Novedad integración con la media",
                                    "DUPLICADOS": "56"
                                },
                                {
                                    "tipo_novedad": "Novedad integración con la media",
                                    "DUPLICADOS": "57"
                                },
                                {
                                    "tipo_novedad": "Novedad integración con la media",
                                    "DUPLICADOS": "58"
                                },
                                {
                                    "tipo_novedad": "Novedad integración con la media",
                                    "DUPLICADOS": "59"
                                },
                                {
                                    "tipo_novedad": "Novedad integración con la media",
                                    "DUPLICADOS": "60"
                                },
                                {
                                    "tipo_novedad": "Novedad integración con la media",
                                    "DUPLICADOS": "61"
                                },
                                {
                                    "tipo_novedad": "Novedad integración con la media",
                                    "DUPLICADOS": "62"
                                },
                                {
                                    "tipo_novedad": "Novedad integración con la media",
                                    "DUPLICADOS": "63"
                                },
                                {
                                    "tipo_novedad": "Novedad integración con la media",
                                    "DUPLICADOS": "64"
                                },
                                {
                                    "tipo_novedad": "Novedad integración con la media",
                                    "DUPLICADOS": "65"
                                },
                                {
                                    "tipo_novedad": "Novedad integración con la media",
                                    "DUPLICADOS": "66"
                                },
                                {
                                    "tipo_novedad": "Novedad integración con la media",
                                    "DUPLICADOS": "67"
                                },
                                {
                                    "tipo_novedad": "Novedad integración con la media",
                                    "DUPLICADOS": "68"
                                },
                                {
                                    "tipo_novedad": "Novedad integración con la media",
                                    "DUPLICADOS": "69"
                                },
                                {
                                    "tipo_novedad": "Novedad integración con la media",
                                    "DUPLICADOS": "70"
                                },
                                {
                                    "tipo_novedad": "Novedad integración con la media",
                                    "DUPLICADOS": "71"
                                },
                                {
                                    "tipo_novedad": "Novedad integración con la media",
                                    "DUPLICADOS": "72"
                                },
                                {
                                    "tipo_novedad": "Novedad integración con la media",
                                    "DUPLICADOS": "73"
                                },
                                {
                                    "tipo_novedad": "Novedad integración con la media",
                                    "DUPLICADOS": "74"
                                },
                                {
                                    "tipo_novedad": "Novedad integración con la media",
                                    "DUPLICADOS": "75"
                                },
                                {
                                    "tipo_novedad": "Novedad integración con la media",
                                    "DUPLICADOS": "76"
                                },
                                {
                                    "tipo_novedad": "Novedad integración con la media",
                                    "DUPLICADOS": "77"
                                },
                                {
                                    "tipo_novedad": "Novedad integración con la media",
                                    "DUPLICADOS": "78"
                                },
                                {
                                    "tipo_novedad": "Novedad integración con la media",
                                    "DUPLICADOS": "79"
                                },
                                {
                                    "tipo_novedad": "Novedad integración con la media",
                                    "DUPLICADOS": "80"
                                },
                                {
                                    "tipo_novedad": "Novedad integración con la media",
                                    "DUPLICADOS": "81"
                                },
                                {
                                    "tipo_novedad": "Novedad integración con la media",
                                    "DUPLICADOS": "82"
                                },
                                {
                                    "tipo_novedad": "Novedad integración con la media",
                                    "DUPLICADOS": "83"
                                },
                                {
                                    "tipo_novedad": "Novedad integración con la media",
                                    "DUPLICADOS": "84"
                                },
                                {
                                    "tipo_novedad": "Novedad integración con la media",
                                    "DUPLICADOS": "85"
                                },
                                {
                                    "tipo_novedad": "Novedad integración con la media",
                                    "DUPLICADOS": "86"
                                },
                                {
                                    "tipo_novedad": "Novedad integración con la media",
                                    "DUPLICADOS": "87"
                                },
                                {
                                    "tipo_novedad": "Novedad integración con la media",
                                    "DUPLICADOS": "88"
                                },
                                {
                                    "tipo_novedad": "Novedad integración con la media",
                                    "DUPLICADOS": "89"
                                },
                                {
                                    "tipo_novedad": "Novedad integración con la media",
                                    "DUPLICADOS": "90"
                                },
                                {
                                    "tipo_novedad": "Novedad integración con la media",
                                    "DUPLICADOS": "91"
                                },
                                {
                                    "tipo_novedad": "Novedad integración con la media",
                                    "DUPLICADOS": "92"
                                },
                                {
                                    "tipo_novedad": "Novedad integración con la media",
                                    "DUPLICADOS": "93"
                                },
                                {
                                    "tipo_novedad": "Novedad integración con la media",
                                    "DUPLICADOS": "94"
                                },
                                {
                                    "tipo_novedad": "Novedad integración con la media",
                                    "DUPLICADOS": "95"
                                },
                                {
                                    "tipo_novedad": "Novedad integración con la media",
                                    "DUPLICADOS": "96"
                                },
                                {
                                    "tipo_novedad": "Novedad integración con la media",
                                    "DUPLICADOS": "97"
                                },
                                {
                                    "tipo_novedad": "Novedad integración con la media",
                                    "DUPLICADOS": "98"
                                },
                                {
                                    "tipo_novedad": "Novedad integración con la media",
                                    "DUPLICADOS": "99"
                                },
                                {
                                    "tipo_novedad": "Novedad integración con la media",
                                    "DUPLICADOS": "100"
                                },
                                {
                                    "tipo_novedad": "Novedad integración con la media",
                                    "DUPLICADOS": "101"
                                },
                                {
                                    "tipo_novedad": "Novedad integración con la media",
                                    "DUPLICADOS": "102"
                                },
                                {
                                    "tipo_novedad": "Novedad integración con la media",
                                    "DUPLICADOS": "103"
                                },
                                {
                                    "tipo_novedad": "Novedad integración con la media",
                                    "DUPLICADOS": "104"
                                },
                                {
                                    "tipo_novedad": "Problemas económicos",
                                    "DUPLICADOS": "2"
                                },
                                {
                                    "tipo_novedad": "Problemas económicos",
                                    "DUPLICADOS": "3"
                                },
                                {
                                    "tipo_novedad": "Problemas económicos",
                                    "DUPLICADOS": "4"
                                },
                                {
                                    "tipo_novedad": "Problemas económicos",
                                    "DUPLICADOS": "5"
                                },
                                {
                                    "tipo_novedad": "Problemas económicos",
                                    "DUPLICADOS": "6"
                                },
                                {
                                    "tipo_novedad": "Problemas económicos",
                                    "DUPLICADOS": "7"
                                },
                                {
                                    "tipo_novedad": "Problemas económicos",
                                    "DUPLICADOS": "8"
                                },
                                {
                                    "tipo_novedad": "Problemas económicos",
                                    "DUPLICADOS": "9"
                                },
                                {
                                    "tipo_novedad": "Problemas económicos",
                                    "DUPLICADOS": "10"
                                },
                                {
                                    "tipo_novedad": "Problemas familiares",
                                    "DUPLICADOS": "2"
                                },
                                {
                                    "tipo_novedad": "Problemas familiares",
                                    "DUPLICADOS": "3"
                                },
                                {
                                    "tipo_novedad": "Problemas familiares",
                                    "DUPLICADOS": "4"
                                },
                                {
                                    "tipo_novedad": "Problemas familiares",
                                    "DUPLICADOS": "5"
                                },
                                {
                                    "tipo_novedad": "Problemas familiares",
                                    "DUPLICADOS": "6"
                                },
                                {
                                    "tipo_novedad": "Problemas laborales",
                                    "DUPLICADOS": "2"
                                },
                                {
                                    "tipo_novedad": "Problemas laborales",
                                    "DUPLICADOS": "3"
                                },
                                {
                                    "tipo_novedad": "Problemas laborales",
                                    "DUPLICADOS": "4"
                                },
                                {
                                    "tipo_novedad": "Problemas laborales",
                                    "DUPLICADOS": "5"
                                },
                                {
                                    "tipo_novedad": "Problemas laborales",
                                    "DUPLICADOS": "6"
                                },
                                {
                                    "tipo_novedad": "Problemas laborales",
                                    "DUPLICADOS": "7"
                                },
                                {
                                    "tipo_novedad": "Problemas laborales",
                                    "DUPLICADOS": "8"
                                },
                                {
                                    "tipo_novedad": "Retiro voluntario",
                                    "DUPLICADOS": "2"
                                },
                                {
                                    "tipo_novedad": "Retiro voluntario",
                                    "DUPLICADOS": "3"
                                },
                                {
                                    "tipo_novedad": "Retiro voluntario",
                                    "DUPLICADOS": "4"
                                },
                                {
                                    "tipo_novedad": "Retiro voluntario",
                                    "DUPLICADOS": "5"
                                },
                                {
                                    "tipo_novedad": "Retiro voluntario",
                                    "DUPLICADOS": "6"
                                },
                                {
                                    "tipo_novedad": "Retiro voluntario",
                                    "DUPLICADOS": "7"
                                },
                                {
                                    "tipo_novedad": "Retiro voluntario",
                                    "DUPLICADOS": "8"
                                },
                                {
                                    "tipo_novedad": "Retiro voluntario",
                                    "DUPLICADOS": "9"
                                },
                                {
                                    "tipo_novedad": "Retiro voluntario",
                                    "DUPLICADOS": "10"
                                },
                                {
                                    "tipo_novedad": "Retiro voluntario",
                                    "DUPLICADOS": "11"
                                },
                                {
                                    "tipo_novedad": "Retiro voluntario",
                                    "DUPLICADOS": "12"
                                },
                                {
                                    "tipo_novedad": "Retiro voluntario",
                                    "DUPLICADOS": "13"
                                },
                                {
                                    "tipo_novedad": "Retiro voluntario",
                                    "DUPLICADOS": "14"
                                },
                                {
                                    "tipo_novedad": "Retiro voluntario",
                                    "DUPLICADOS": "15"
                                },
                                {
                                    "tipo_novedad": "Retiro voluntario",
                                    "DUPLICADOS": "16"
                                },
                                {
                                    "tipo_novedad": "Retiro voluntario",
                                    "DUPLICADOS": "17"
                                },
                                {
                                    "tipo_novedad": "Retiro voluntario",
                                    "DUPLICADOS": "18"
                                },
                                {
                                    "tipo_novedad": "Retiro voluntario",
                                    "DUPLICADOS": "19"
                                },
                                {
                                    "tipo_novedad": "Retiro voluntario",
                                    "DUPLICADOS": "20"
                                },
                                {
                                    "tipo_novedad": "Retiro voluntario",
                                    "DUPLICADOS": "21"
                                },
                                {
                                    "tipo_novedad": "Retiro voluntario",
                                    "DUPLICADOS": "22"
                                },
                                {
                                    "tipo_novedad": "Retiro voluntario",
                                    "DUPLICADOS": "23"
                                },
                                {
                                    "tipo_novedad": "Retiro voluntario",
                                    "DUPLICADOS": "24"
                                },
                                {
                                    "tipo_novedad": "Retiro voluntario",
                                    "DUPLICADOS": "25"
                                },
                                {
                                    "tipo_novedad": "Retiro voluntario",
                                    "DUPLICADOS": "26"
                                },
                                {
                                    "tipo_novedad": "Retiro voluntario",
                                    "DUPLICADOS": "27"
                                },
                                {
                                    "tipo_novedad": "Retiro voluntario",
                                    "DUPLICADOS": "28"
                                },
                                {
                                    "tipo_novedad": "Retiro voluntario",
                                    "DUPLICADOS": "29"
                                },
                                {
                                    "tipo_novedad": "Retiro voluntario",
                                    "DUPLICADOS": "30"
                                },
                                {
                                    "tipo_novedad": "Retiro voluntario",
                                    "DUPLICADOS": "31"
                                },
                                {
                                    "tipo_novedad": "Retiro voluntario",
                                    "DUPLICADOS": "32"
                                },
                                {
                                    "tipo_novedad": "Retiro voluntario",
                                    "DUPLICADOS": "33"
                                },
                                {
                                    "tipo_novedad": "Retiro voluntario",
                                    "DUPLICADOS": "34"
                                },
                                {
                                    "tipo_novedad": "Retiro voluntario",
                                    "DUPLICADOS": "35"
                                },
                                {
                                    "tipo_novedad": "Retiro voluntario",
                                    "DUPLICADOS": "36"
                                },
                                {
                                    "tipo_novedad": "Retiro voluntario",
                                    "DUPLICADOS": "37"
                                },
                                {
                                    "tipo_novedad": "Retiro voluntario",
                                    "DUPLICADOS": "38"
                                },
                                {
                                    "tipo_novedad": "Retiro voluntario",
                                    "DUPLICADOS": "39"
                                },
                                {
                                    "tipo_novedad": "Retiro voluntario",
                                    "DUPLICADOS": "40"
                                },
                                {
                                    "tipo_novedad": "Retiro voluntario",
                                    "DUPLICADOS": "41"
                                },
                                {
                                    "tipo_novedad": "Retiro voluntario",
                                    "DUPLICADOS": "42"
                                },
                                {
                                    "tipo_novedad": "Retiro voluntario",
                                    "DUPLICADOS": "43"
                                },
                                {
                                    "tipo_novedad": "Retiro voluntario",
                                    "DUPLICADOS": "44"
                                },
                                {
                                    "tipo_novedad": "Retiro voluntario",
                                    "DUPLICADOS": "45"
                                },
                                {
                                    "tipo_novedad": "Retiro voluntario",
                                    "DUPLICADOS": "46"
                                },
                                {
                                    "tipo_novedad": "Retiro voluntario",
                                    "DUPLICADOS": "47"
                                },
                                {
                                    "tipo_novedad": "Retiro voluntario",
                                    "DUPLICADOS": "48"
                                },
                                {
                                    "tipo_novedad": "Retiro voluntario",
                                    "DUPLICADOS": "49"
                                },
                                {
                                    "tipo_novedad": "Retiro voluntario",
                                    "DUPLICADOS": "50"
                                },
                                {
                                    "tipo_novedad": "Retiro voluntario",
                                    "DUPLICADOS": "51"
                                },
                                {
                                    "tipo_novedad": "Retiro voluntario",
                                    "DUPLICADOS": "52"
                                },
                                {
                                    "tipo_novedad": "Retiro voluntario",
                                    "DUPLICADOS": "53"
                                },
                                {
                                    "tipo_novedad": "Retiro voluntario",
                                    "DUPLICADOS": "54"
                                },
                                {
                                    "tipo_novedad": "Retiro voluntario",
                                    "DUPLICADOS": "55"
                                },
                                {
                                    "tipo_novedad": "Retiro voluntario",
                                    "DUPLICADOS": "56"
                                },
                                {
                                    "tipo_novedad": "Retiro voluntario",
                                    "DUPLICADOS": "57"
                                },
                                {
                                    "tipo_novedad": "Retiro voluntario",
                                    "DUPLICADOS": "58"
                                },
                                {
                                    "tipo_novedad": "Retiro voluntario",
                                    "DUPLICADOS": "59"
                                },
                                {
                                    "tipo_novedad": "Retiro voluntario",
                                    "DUPLICADOS": "60"
                                },
                                {
                                    "tipo_novedad": "Retiro voluntario",
                                    "DUPLICADOS": "61"
                                },
                                {
                                    "tipo_novedad": "Retiro voluntario",
                                    "DUPLICADOS": "62"
                                },
                                {
                                    "tipo_novedad": "Retiro voluntario",
                                    "DUPLICADOS": "63"
                                },
                                {
                                    "tipo_novedad": "Retiro voluntario",
                                    "DUPLICADOS": "64"
                                },
                                {
                                    "tipo_novedad": "Retiro voluntario",
                                    "DUPLICADOS": "65"
                                },
                                {
                                    "tipo_novedad": "Retiro voluntario",
                                    "DUPLICADOS": "66"
                                },
                                {
                                    "tipo_novedad": "Retiro voluntario",
                                    "DUPLICADOS": "67"
                                },
                                {
                                    "tipo_novedad": "Retiro voluntario",
                                    "DUPLICADOS": "68"
                                },
                                {
                                    "tipo_novedad": "Retiro voluntario",
                                    "DUPLICADOS": "69"
                                },
                                {
                                    "tipo_novedad": "Retiro voluntario",
                                    "DUPLICADOS": "70"
                                },
                                {
                                    "tipo_novedad": "Retiro voluntario",
                                    "DUPLICADOS": "71"
                                },
                                {
                                    "tipo_novedad": "Retiro voluntario",
                                    "DUPLICADOS": "72"
                                },
                                {
                                    "tipo_novedad": "Retiro voluntario",
                                    "DUPLICADOS": "73"
                                },
                                {
                                    "tipo_novedad": "Retiro voluntario",
                                    "DUPLICADOS": "74"
                                },
                                {
                                    "tipo_novedad": "Retiro voluntario",
                                    "DUPLICADOS": "75"
                                },
                                {
                                    "tipo_novedad": "Retiro voluntario",
                                    "DUPLICADOS": "76"
                                },
                                {
                                    "tipo_novedad": "Retiro voluntario",
                                    "DUPLICADOS": "77"
                                },
                                {
                                    "tipo_novedad": "Retiro voluntario",
                                    "DUPLICADOS": "78"
                                },
                                {
                                    "tipo_novedad": "Retiro voluntario",
                                    "DUPLICADOS": "79"
                                },
                                {
                                    "tipo_novedad": "Retiro voluntario",
                                    "DUPLICADOS": "80"
                                },
                                {
                                    "tipo_novedad": "Retiro voluntario",
                                    "DUPLICADOS": "81"
                                },
                                {
                                    "tipo_novedad": "Retiro voluntario",
                                    "DUPLICADOS": "82"
                                },
                                {
                                    "tipo_novedad": "Retiro voluntario",
                                    "DUPLICADOS": "83"
                                },
                                {
                                    "tipo_novedad": "Retiro voluntario",
                                    "DUPLICADOS": "84"
                                },
                                {
                                    "tipo_novedad": "Retiro voluntario",
                                    "DUPLICADOS": "85"
                                },
                                {
                                    "tipo_novedad": "Retiro voluntario",
                                    "DUPLICADOS": "86"
                                },
                                {
                                    "tipo_novedad": "Retiro voluntario",
                                    "DUPLICADOS": "87"
                                },
                                {
                                    "tipo_novedad": "Retiro voluntario",
                                    "DUPLICADOS": "88"
                                },
                                {
                                    "tipo_novedad": "Retiro voluntario",
                                    "DUPLICADOS": "89"
                                },
                                {
                                    "tipo_novedad": "Retiro voluntario",
                                    "DUPLICADOS": "90"
                                },
                                {
                                    "tipo_novedad": "Retiro voluntario",
                                    "DUPLICADOS": "91"
                                },
                                {
                                    "tipo_novedad": "Retiro voluntario",
                                    "DUPLICADOS": "92"
                                },
                                {
                                    "tipo_novedad": "Retiro voluntario",
                                    "DUPLICADOS": "93"
                                },
                                {
                                    "tipo_novedad": "Retiro voluntario",
                                    "DUPLICADOS": "94"
                                },
                                {
                                    "tipo_novedad": "Retiro voluntario",
                                    "DUPLICADOS": "95"
                                },
                                {
                                    "tipo_novedad": "Retiro voluntario",
                                    "DUPLICADOS": "96"
                                },
                                {
                                    "tipo_novedad": "Retiro voluntario",
                                    "DUPLICADOS": "97"
                                },
                                {
                                    "tipo_novedad": "Retiro voluntario",
                                    "DUPLICADOS": "98"
                                },
                                {
                                    "tipo_novedad": "Retiro voluntario",
                                    "DUPLICADOS": "99"
                                },
                                {
                                    "tipo_novedad": "Retiro voluntario",
                                    "DUPLICADOS": "100"
                                },
                                {
                                    "tipo_novedad": "Retiro voluntario",
                                    "DUPLICADOS": "101"
                                },
                                {
                                    "tipo_novedad": "Retiro voluntario",
                                    "DUPLICADOS": "102"
                                },
                                {
                                    "tipo_novedad": "Retiro voluntario",
                                    "DUPLICADOS": "103"
                                },
                                {
                                    "tipo_novedad": "Retiro voluntario",
                                    "DUPLICADOS": "104"
                                },
                                {
                                    "tipo_novedad": "Retiro voluntario",
                                    "DUPLICADOS": "105"
                                },
                                {
                                    "tipo_novedad": "Retiro voluntario",
                                    "DUPLICADOS": "106"
                                },
                                {
                                    "tipo_novedad": "Retiro voluntario",
                                    "DUPLICADOS": "107"
                                },
                                {
                                    "tipo_novedad": "Retiro voluntario",
                                    "DUPLICADOS": "108"
                                },
                                {
                                    "tipo_novedad": "Retiro voluntario",
                                    "DUPLICADOS": "109"
                                },
                                {
                                    "tipo_novedad": "Retiro voluntario",
                                    "DUPLICADOS": "110"
                                },
                                {
                                    "tipo_novedad": "Retiro voluntario",
                                    "DUPLICADOS": "111"
                                },
                                {
                                    "tipo_novedad": "Retiro voluntario",
                                    "DUPLICADOS": "112"
                                },
                                {
                                    "tipo_novedad": "Retiro voluntario",
                                    "DUPLICADOS": "113"
                                },
                                {
                                    "tipo_novedad": "Retiro voluntario",
                                    "DUPLICADOS": "114"
                                },
                                {
                                    "tipo_novedad": "Retiro voluntario",
                                    "DUPLICADOS": "115"
                                },
                                {
                                    "tipo_novedad": "Retiro voluntario",
                                    "DUPLICADOS": "116"
                                },
                                {
                                    "tipo_novedad": "Retiro voluntario",
                                    "DUPLICADOS": "117"
                                },
                                {
                                    "tipo_novedad": "Retiro voluntario",
                                    "DUPLICADOS": "118"
                                },
                                {
                                    "tipo_novedad": "Retiro voluntario",
                                    "DUPLICADOS": "119"
                                },
                                {
                                    "tipo_novedad": "Retiro voluntario",
                                    "DUPLICADOS": "120"
                                },
                                {
                                    "tipo_novedad": "Retiro voluntario",
                                    "DUPLICADOS": "121"
                                },
                                {
                                    "tipo_novedad": "Retiro voluntario",
                                    "DUPLICADOS": "122"
                                },
                                {
                                    "tipo_novedad": "Retiro voluntario",
                                    "DUPLICADOS": "123"
                                },
                                {
                                    "tipo_novedad": "Retiro voluntario",
                                    "DUPLICADOS": "124"
                                },
                                {
                                    "tipo_novedad": "Retiro voluntario",
                                    "DUPLICADOS": "125"
                                },
                                {
                                    "tipo_novedad": "Retiro voluntario",
                                    "DUPLICADOS": "126"
                                },
                                {
                                    "tipo_novedad": "Retiro voluntario",
                                    "DUPLICADOS": "127"
                                },
                                {
                                    "tipo_novedad": "Retiro voluntario",
                                    "DUPLICADOS": "128"
                                },
                                {
                                    "tipo_novedad": "Retiro voluntario",
                                    "DUPLICADOS": "129"
                                },
                                {
                                    "tipo_novedad": "Retiro voluntario",
                                    "DUPLICADOS": "130"
                                },
                                {
                                    "tipo_novedad": "Retiro voluntario",
                                    "DUPLICADOS": "131"
                                },
                                {
                                    "tipo_novedad": "Retiro voluntario",
                                    "DUPLICADOS": "132"
                                },
                                {
                                    "tipo_novedad": "Retiro voluntario",
                                    "DUPLICADOS": "133"
                                },
                                {
                                    "tipo_novedad": "Retiro voluntario",
                                    "DUPLICADOS": "134"
                                },
                                {
                                    "tipo_novedad": "Retiro voluntario",
                                    "DUPLICADOS": "135"
                                },
                                {
                                    "tipo_novedad": "Retiro voluntario",
                                    "DUPLICADOS": "136"
                                },
                                {
                                    "tipo_novedad": "Retiro voluntario",
                                    "DUPLICADOS": "137"
                                },
                                {
                                    "tipo_novedad": "Retiro voluntario",
                                    "DUPLICADOS": "138"
                                },
                                {
                                    "tipo_novedad": "Retiro voluntario",
                                    "DUPLICADOS": "139"
                                },
                                {
                                    "tipo_novedad": "Retiro voluntario",
                                    "DUPLICADOS": "140"
                                },
                                {
                                    "tipo_novedad": "Retiro voluntario",
                                    "DUPLICADOS": "141"
                                },
                                {
                                    "tipo_novedad": "Retiro voluntario",
                                    "DUPLICADOS": "142"
                                },
                                {
                                    "tipo_novedad": "Retiro voluntario",
                                    "DUPLICADOS": "143"
                                },
                                {
                                    "tipo_novedad": "Retiro voluntario",
                                    "DUPLICADOS": "144"
                                },
                                {
                                    "tipo_novedad": "Retiro voluntario",
                                    "DUPLICADOS": "145"
                                },
                                {
                                    "tipo_novedad": "Retiro voluntario",
                                    "DUPLICADOS": "146"
                                },
                                {
                                    "tipo_novedad": "Retiro voluntario",
                                    "DUPLICADOS": "147"
                                },
                                {
                                    "tipo_novedad": "Retiro voluntario",
                                    "DUPLICADOS": "148"
                                },
                                {
                                    "tipo_novedad": "Retiro voluntario",
                                    "DUPLICADOS": "149"
                                },
                                {
                                    "tipo_novedad": "Retiro voluntario",
                                    "DUPLICADOS": "150"
                                },
                                {
                                    "tipo_novedad": "Retiro voluntario",
                                    "DUPLICADOS": "151"
                                },
                                {
                                    "tipo_novedad": "Retiro voluntario",
                                    "DUPLICADOS": "152"
                                },
                                {
                                    "tipo_novedad": "Retiro voluntario",
                                    "DUPLICADOS": "153"
                                },
                                {
                                    "tipo_novedad": "Retiro voluntario",
                                    "DUPLICADOS": "154"
                                },
                                {
                                    "tipo_novedad": "Retiro voluntario",
                                    "DUPLICADOS": "155"
                                },
                                {
                                    "tipo_novedad": "Retiro voluntario",
                                    "DUPLICADOS": "156"
                                },
                                {
                                    "tipo_novedad": "Retiro voluntario",
                                    "DUPLICADOS": "157"
                                },
                                {
                                    "tipo_novedad": "Retiro voluntario",
                                    "DUPLICADOS": "158"
                                },
                                {
                                    "tipo_novedad": "Retiro voluntario",
                                    "DUPLICADOS": "159"
                                },
                                {
                                    "tipo_novedad": "Retiro voluntario",
                                    "DUPLICADOS": "160"
                                },
                                {
                                    "tipo_novedad": "Retiro voluntario",
                                    "DUPLICADOS": "161"
                                },
                                {
                                    "tipo_novedad": "Retiro voluntario",
                                    "DUPLICADOS": "162"
                                },
                                {
                                    "tipo_novedad": "Retiro voluntario",
                                    "DUPLICADOS": "163"
                                },
                                {
                                    "tipo_novedad": "Retiro voluntario",
                                    "DUPLICADOS": "164"
                                },
                                {
                                    "tipo_novedad": "Retiro voluntario",
                                    "DUPLICADOS": "165"
                                },
                                {
                                    "tipo_novedad": "Retiro voluntario",
                                    "DUPLICADOS": "166"
                                },
                                {
                                    "tipo_novedad": "Retiro voluntario",
                                    "DUPLICADOS": "167"
                                },
                                {
                                    "tipo_novedad": "Retiro voluntario",
                                    "DUPLICADOS": "168"
                                },
                                {
                                    "tipo_novedad": "Retiro voluntario",
                                    "DUPLICADOS": "169"
                                },
                                {
                                    "tipo_novedad": "Retiro voluntario",
                                    "DUPLICADOS": "170"
                                },
                                {
                                    "tipo_novedad": "Retiro voluntario",
                                    "DUPLICADOS": "171"
                                },
                                {
                                    "tipo_novedad": "Retiro voluntario",
                                    "DUPLICADOS": "172"
                                },
                                {
                                    "tipo_novedad": "Retiro voluntario",
                                    "DUPLICADOS": "173"
                                },
                                {
                                    "tipo_novedad": "Retiro voluntario",
                                    "DUPLICADOS": "174"
                                },
                                {
                                    "tipo_novedad": "Retiro voluntario",
                                    "DUPLICADOS": "175"
                                },
                                {
                                    "tipo_novedad": "Retiro voluntario",
                                    "DUPLICADOS": "176"
                                },
                                {
                                    "tipo_novedad": "Retiro voluntario",
                                    "DUPLICADOS": "177"
                                },
                                {
                                    "tipo_novedad": "Retiro voluntario",
                                    "DUPLICADOS": "178"
                                },
                                {
                                    "tipo_novedad": "Retiro voluntario",
                                    "DUPLICADOS": "179"
                                },
                                {
                                    "tipo_novedad": "Retiro voluntario",
                                    "DUPLICADOS": "180"
                                },
                                {
                                    "tipo_novedad": "Retiro voluntario",
                                    "DUPLICADOS": "181"
                                },
                                {
                                    "tipo_novedad": "Retiro voluntario",
                                    "DUPLICADOS": "182"
                                },
                                {
                                    "tipo_novedad": "Retiro voluntario",
                                    "DUPLICADOS": "183"
                                },
                                {
                                    "tipo_novedad": "Retiro voluntario",
                                    "DUPLICADOS": "184"
                                },
                                {
                                    "tipo_novedad": "Retiro voluntario",
                                    "DUPLICADOS": "185"
                                },
                                {
                                    "tipo_novedad": "Retiro voluntario",
                                    "DUPLICADOS": "186"
                                },
                                {
                                    "tipo_novedad": "Retiro voluntario",
                                    "DUPLICADOS": "187"
                                },
                                {
                                    "tipo_novedad": "Retiro voluntario",
                                    "DUPLICADOS": "188"
                                },
                                {
                                    "tipo_novedad": "Retiro voluntario",
                                    "DUPLICADOS": "189"
                                },
                                {
                                    "tipo_novedad": "Retiro voluntario",
                                    "DUPLICADOS": "190"
                                },
                                {
                                    "tipo_novedad": "Retiro voluntario",
                                    "DUPLICADOS": "191"
                                },
                                {
                                    "tipo_novedad": "Retiro voluntario",
                                    "DUPLICADOS": "192"
                                },
                                {
                                    "tipo_novedad": "Retiro voluntario",
                                    "DUPLICADOS": "193"
                                },
                                {
                                    "tipo_novedad": "Retiro voluntario",
                                    "DUPLICADOS": "194"
                                },
                                {
                                    "tipo_novedad": "Retiro voluntario",
                                    "DUPLICADOS": "195"
                                },
                                {
                                    "tipo_novedad": "Retiro voluntario",
                                    "DUPLICADOS": "196"
                                },
                                {
                                    "tipo_novedad": "Retiro voluntario",
                                    "DUPLICADOS": "197"
                                },
                                {
                                    "tipo_novedad": "Retiro voluntario",
                                    "DUPLICADOS": "198"
                                },
                                {
                                    "tipo_novedad": "Retiro voluntario",
                                    "DUPLICADOS": "199"
                                },
                                {
                                    "tipo_novedad": "Retiro voluntario",
                                    "DUPLICADOS": "200"
                                },
                                {
                                    "tipo_novedad": "Retiro voluntario",
                                    "DUPLICADOS": "201"
                                },
                                {
                                    "tipo_novedad": "Retiro voluntario",
                                    "DUPLICADOS": "202"
                                },
                                {
                                    "tipo_novedad": "Retiro voluntario",
                                    "DUPLICADOS": "203"
                                },
                                {
                                    "tipo_novedad": "Retiro voluntario",
                                    "DUPLICADOS": "204"
                                },
                                {
                                    "tipo_novedad": "Retiro voluntario",
                                    "DUPLICADOS": "205"
                                },
                                {
                                    "tipo_novedad": "Retiro voluntario",
                                    "DUPLICADOS": "206"
                                },
                                {
                                    "tipo_novedad": "Retiro voluntario",
                                    "DUPLICADOS": "207"
                                },
                                {
                                    "tipo_novedad": "Retiro voluntario",
                                    "DUPLICADOS": "208"
                                },
                                {
                                    "tipo_novedad": "Retiro voluntario",
                                    "DUPLICADOS": "209"
                                },
                                {
                                    "tipo_novedad": "Retiro voluntario",
                                    "DUPLICADOS": "210"
                                },
                                {
                                    "tipo_novedad": "Retiro voluntario",
                                    "DUPLICADOS": "211"
                                },
                                {
                                    "tipo_novedad": "Retiro voluntario",
                                    "DUPLICADOS": "212"
                                },
                                {
                                    "tipo_novedad": "Retiro voluntario",
                                    "DUPLICADOS": "213"
                                },
                                {
                                    "tipo_novedad": "Retiro voluntario",
                                    "DUPLICADOS": "214"
                                },
                                {
                                    "tipo_novedad": "Retiro voluntario",
                                    "DUPLICADOS": "215"
                                },
                                {
                                    "tipo_novedad": "Retiro voluntario",
                                    "DUPLICADOS": "216"
                                },
                                {
                                    "tipo_novedad": "Retiro voluntario",
                                    "DUPLICADOS": "217"
                                },
                                {
                                    "tipo_novedad": "Retiro voluntario",
                                    "DUPLICADOS": "218"
                                },
                                {
                                    "tipo_novedad": "Retiro voluntario",
                                    "DUPLICADOS": "219"
                                },
                                {
                                    "tipo_novedad": "Retiro voluntario",
                                    "DUPLICADOS": "220"
                                },
                                {
                                    "tipo_novedad": "Retiro voluntario",
                                    "DUPLICADOS": "221"
                                },
                                {
                                    "tipo_novedad": "Retiro voluntario",
                                    "DUPLICADOS": "222"
                                },
                                {
                                    "tipo_novedad": "Retiro voluntario",
                                    "DUPLICADOS": "223"
                                },
                                {
                                    "tipo_novedad": "Retiro voluntario",
                                    "DUPLICADOS": "224"
                                },
                                {
                                    "tipo_novedad": "Retiro voluntario",
                                    "DUPLICADOS": "225"
                                },
                                {
                                    "tipo_novedad": "Retiro voluntario",
                                    "DUPLICADOS": "226"
                                },
                                {
                                    "tipo_novedad": "Retiro voluntario",
                                    "DUPLICADOS": "227"
                                },
                                {
                                    "tipo_novedad": "Retiro voluntario",
                                    "DUPLICADOS": "228"
                                },
                                {
                                    "tipo_novedad": "Retiro voluntario",
                                    "DUPLICADOS": "229"
                                },
                                {
                                    "tipo_novedad": "Retiro voluntario",
                                    "DUPLICADOS": "230"
                                },
                                {
                                    "tipo_novedad": "Retiro voluntario",
                                    "DUPLICADOS": "231"
                                },
                                {
                                    "tipo_novedad": "Retiro voluntario",
                                    "DUPLICADOS": "232"
                                },
                                {
                                    "tipo_novedad": "Retiro voluntario",
                                    "DUPLICADOS": "233"
                                },
                                {
                                    "tipo_novedad": "Retiro voluntario",
                                    "DUPLICADOS": "234"
                                },
                                {
                                    "tipo_novedad": "Retiro voluntario",
                                    "DUPLICADOS": "235"
                                },
                                {
                                    "tipo_novedad": "Retiro voluntario",
                                    "DUPLICADOS": "236"
                                },
                                {
                                    "tipo_novedad": "Retiro voluntario",
                                    "DUPLICADOS": "237"
                                },
                                {
                                    "tipo_novedad": "Retiro voluntario",
                                    "DUPLICADOS": "238"
                                },
                                {
                                    "tipo_novedad": "Retiro voluntario",
                                    "DUPLICADOS": "239"
                                },
                                {
                                    "tipo_novedad": "Retiro voluntario",
                                    "DUPLICADOS": "240"
                                },
                                {
                                    "tipo_novedad": "Retiro voluntario",
                                    "DUPLICADOS": "241"
                                },
                                {
                                    "tipo_novedad": "Retiro voluntario",
                                    "DUPLICADOS": "242"
                                },
                                {
                                    "tipo_novedad": "Retiro voluntario",
                                    "DUPLICADOS": "243"
                                },
                                {
                                    "tipo_novedad": "Retiro voluntario",
                                    "DUPLICADOS": "244"
                                },
                                {
                                    "tipo_novedad": "Retiro voluntario",
                                    "DUPLICADOS": "245"
                                },
                                {
                                    "tipo_novedad": "Retiro voluntario",
                                    "DUPLICADOS": "246"
                                },
                                {
                                    "tipo_novedad": "Retiro voluntario",
                                    "DUPLICADOS": "247"
                                },
                                {
                                    "tipo_novedad": "Retiro voluntario",
                                    "DUPLICADOS": "248"
                                },
                                {
                                    "tipo_novedad": "Retiro voluntario",
                                    "DUPLICADOS": "249"
                                },
                                {
                                    "tipo_novedad": "Retiro voluntario",
                                    "DUPLICADOS": "250"
                                },
                                {
                                    "tipo_novedad": "Retiro voluntario",
                                    "DUPLICADOS": "251"
                                },
                                {
                                    "tipo_novedad": "Retiro voluntario",
                                    "DUPLICADOS": "252"
                                },
                                {
                                    "tipo_novedad": "Retiro voluntario",
                                    "DUPLICADOS": "253"
                                },
                                {
                                    "tipo_novedad": "Retiro voluntario",
                                    "DUPLICADOS": "254"
                                },
                                {
                                    "tipo_novedad": "Retiro voluntario",
                                    "DUPLICADOS": "255"
                                },
                                {
                                    "tipo_novedad": "Retiro voluntario",
                                    "DUPLICADOS": "256"
                                },
                                {
                                    "tipo_novedad": "Retiro voluntario",
                                    "DUPLICADOS": "257"
                                },
                                {
                                    "tipo_novedad": "Retiro voluntario",
                                    "DUPLICADOS": "258"
                                },
                                {
                                    "tipo_novedad": "Retiro voluntario",
                                    "DUPLICADOS": "259"
                                },
                                {
                                    "tipo_novedad": "Retiro voluntario",
                                    "DUPLICADOS": "260"
                                },
                                {
                                    "tipo_novedad": "Retiro voluntario",
                                    "DUPLICADOS": "261"
                                },
                                {
                                    "tipo_novedad": "Retiro voluntario",
                                    "DUPLICADOS": "262"
                                },
                                {
                                    "tipo_novedad": "Retiro voluntario",
                                    "DUPLICADOS": "263"
                                },
                                {
                                    "tipo_novedad": "Retiro voluntario",
                                    "DUPLICADOS": "264"
                                },
                                {
                                    "tipo_novedad": "Retiro voluntario",
                                    "DUPLICADOS": "265"
                                },
                                {
                                    "tipo_novedad": "Retiro voluntario",
                                    "DUPLICADOS": "266"
                                },
                                {
                                    "tipo_novedad": "Retiro voluntario",
                                    "DUPLICADOS": "267"
                                },
                                {
                                    "tipo_novedad": "Retiro voluntario",
                                    "DUPLICADOS": "268"
                                },
                                {
                                    "tipo_novedad": "Retiro voluntario",
                                    "DUPLICADOS": "269"
                                },
                                {
                                    "tipo_novedad": "Retiro voluntario",
                                    "DUPLICADOS": "270"
                                },
                                {
                                    "tipo_novedad": "Retiro voluntario",
                                    "DUPLICADOS": "271"
                                },
                                {
                                    "tipo_novedad": "Retiro voluntario",
                                    "DUPLICADOS": "272"
                                },
                                {
                                    "tipo_novedad": "Retiro voluntario",
                                    "DUPLICADOS": "273"
                                },
                                {
                                    "tipo_novedad": "Retiro voluntario",
                                    "DUPLICADOS": "274"
                                },
                                {
                                    "tipo_novedad": "Retiro voluntario",
                                    "DUPLICADOS": "275"
                                },
                                {
                                    "tipo_novedad": "Retiro voluntario",
                                    "DUPLICADOS": "276"
                                },
                                {
                                    "tipo_novedad": "Retiro voluntario",
                                    "DUPLICADOS": "277"
                                },
                                {
                                    "tipo_novedad": "Retiro voluntario",
                                    "DUPLICADOS": "278"
                                },
                                {
                                    "tipo_novedad": "Retiro voluntario",
                                    "DUPLICADOS": "279"
                                },
                                {
                                    "tipo_novedad": "Retiro voluntario",
                                    "DUPLICADOS": "280"
                                },
                                {
                                    "tipo_novedad": "Retiro voluntario",
                                    "DUPLICADOS": "281"
                                },
                                {
                                    "tipo_novedad": "Retiro voluntario",
                                    "DUPLICADOS": "282"
                                },
                                {
                                    "tipo_novedad": "Retiro voluntario",
                                    "DUPLICADOS": "283"
                                },
                                {
                                    "tipo_novedad": "Retiro voluntario",
                                    "DUPLICADOS": "284"
                                },
                                {
                                    "tipo_novedad": "Retiro voluntario",
                                    "DUPLICADOS": "285"
                                },
                                {
                                    "tipo_novedad": "Retiro voluntario",
                                    "DUPLICADOS": "286"
                                },
                                {
                                    "tipo_novedad": "Retiro voluntario",
                                    "DUPLICADOS": "287"
                                },
                                {
                                    "tipo_novedad": "Retiro voluntario",
                                    "DUPLICADOS": "288"
                                },
                                {
                                    "tipo_novedad": "Retiro voluntario",
                                    "DUPLICADOS": "289"
                                },
                                {
                                    "tipo_novedad": "Retiro voluntario",
                                    "DUPLICADOS": "290"
                                },
                                {
                                    "tipo_novedad": "Retiro voluntario",
                                    "DUPLICADOS": "291"
                                },
                                {
                                    "tipo_novedad": "Retiro voluntario",
                                    "DUPLICADOS": "292"
                                },
                                {
                                    "tipo_novedad": "Retiro voluntario",
                                    "DUPLICADOS": "293"
                                },
                                {
                                    "tipo_novedad": "Retiro voluntario",
                                    "DUPLICADOS": "294"
                                },
                                {
                                    "tipo_novedad": "Retiro voluntario",
                                    "DUPLICADOS": "295"
                                },
                                {
                                    "tipo_novedad": "Retiro voluntario",
                                    "DUPLICADOS": "296"
                                },
                                {
                                    "tipo_novedad": "Retiro voluntario",
                                    "DUPLICADOS": "297"
                                },
                                {
                                    "tipo_novedad": "Retiro voluntario",
                                    "DUPLICADOS": "298"
                                },
                                {
                                    "tipo_novedad": "Retiro voluntario",
                                    "DUPLICADOS": "299"
                                },
                                {
                                    "tipo_novedad": "Retiro voluntario",
                                    "DUPLICADOS": "300"
                                },
                                {
                                    "tipo_novedad": "Retiro voluntario",
                                    "DUPLICADOS": "301"
                                },
                                {
                                    "tipo_novedad": "Retiro voluntario",
                                    "DUPLICADOS": "302"
                                },
                                {
                                    "tipo_novedad": "Retiro voluntario",
                                    "DUPLICADOS": "303"
                                },
                                {
                                    "tipo_novedad": "Retiro voluntario",
                                    "DUPLICADOS": "304"
                                },
                                {
                                    "tipo_novedad": "Retiro voluntario",
                                    "DUPLICADOS": "305"
                                }
                            ]
                        },
                        "text/html": [
                            "<table>",
                            "<tr><th>tipo_novedad</th><th>DUPLICADOS</th></tr>",
                            "<tr><td>A una ficha diferente</td><td>2</td></tr>",
                            "<tr><td>A una ficha diferente</td><td>3</td></tr>",
                            "<tr><td>Calamidad domestica</td><td>2</td></tr>",
                            "<tr><td>Calamidad domestica</td><td>3</td></tr>",
                            "<tr><td>Calamidad domestica</td><td>4</td></tr>",
                            "<tr><td>Cambio de domicilio</td><td>2</td></tr>",
                            "<tr><td>Cambio de domicilio</td><td>3</td></tr>",
                            "<tr><td>Concertación Plan de mejoramiento</td><td>2</td></tr>",
                            "<tr><td>Concertación Plan de mejoramiento</td><td>3</td></tr>",
                            "<tr><td>Concertación Plan de mejoramiento</td><td>4</td></tr>",
                            "<tr><td>Concertación Plan de mejoramiento</td><td>5</td></tr>",
                            "<tr><td>Concertación Plan de mejoramiento</td><td>6</td></tr>",
                            "<tr><td>Concertación Plan de mejoramiento</td><td>7</td></tr>",
                            "<tr><td>Concertación Plan de mejoramiento</td><td>8</td></tr>",
                            "<tr><td>Cumple con lo solicitado en el condicionamiento</td><td>2</td></tr>",
                            "<tr><td>Cumple con lo solicitado en el condicionamiento</td><td>3</td></tr>",
                            "<tr><td>Enfermedad</td><td>2</td></tr>",
                            "<tr><td>Enfermedad</td><td>3</td></tr>",
                            "<tr><td>Enfermedad</td><td>4</td></tr>",
                            "<tr><td>Enfermedad</td><td>5</td></tr>",
                            "<tr><td>Enfermedad</td><td>6</td></tr>",
                            "<tr><td>Enfermedad</td><td>7</td></tr>",
                            "<tr><td>Enfermedad</td><td>8</td></tr>",
                            "<tr><td>Enfermedad</td><td>9</td></tr>",
                            "<tr><td>Licencia de maternidad</td><td>2</td></tr>",
                            "<tr><td>Licencia de maternidad</td><td>3</td></tr>",
                            "<tr><td>Motivos laborales</td><td>2</td></tr>",
                            "<tr><td>Motivos personales</td><td>2</td></tr>",
                            "<tr><td>Motivos personales</td><td>3</td></tr>",
                            "<tr><td>Motivos personales</td><td>4</td></tr>",
                            "<tr><td>Motivos personales</td><td>5</td></tr>",
                            "<tr><td>Motivos personales</td><td>6</td></tr>",
                            "<tr><td>Motivos personales</td><td>7</td></tr>",
                            "<tr><td>Motivos personales</td><td>8</td></tr>",
                            "<tr><td>Motivos personales</td><td>9</td></tr>",
                            "<tr><td>Motivos personales</td><td>10</td></tr>",
                            "<tr><td>Motivos personales</td><td>11</td></tr>",
                            "<tr><td>Motivos personales</td><td>12</td></tr>",
                            "<tr><td>Motivos personales</td><td>13</td></tr>",
                            "<tr><td>Motivos personales</td><td>14</td></tr>",
                            "<tr><td>Motivos personales</td><td>15</td></tr>",
                            "<tr><td>Motivos personales</td><td>16</td></tr>",
                            "<tr><td>Motivos personales</td><td>17</td></tr>",
                            "<tr><td>Motivos personales</td><td>18</td></tr>",
                            "<tr><td>No inició proceso de formación</td><td>2</td></tr>",
                            "<tr><td>No inició proceso de formación</td><td>3</td></tr>",
                            "<tr><td>No inició proceso de formación</td><td>4</td></tr>",
                            "<tr><td>No inició proceso de formación</td><td>5</td></tr>",
                            "<tr><td>No inició proceso de formación</td><td>6</td></tr>",
                            "<tr><td>No inició proceso de formación</td><td>7</td></tr>",
                            "<tr><td>No inició proceso de formación</td><td>8</td></tr>",
                            "<tr><td>No inició proceso de formación</td><td>9</td></tr>",
                            "<tr><td>Novedad integración con la media</td><td>2</td></tr>",
                            "<tr><td>Novedad integración con la media</td><td>3</td></tr>",
                            "<tr><td>Novedad integración con la media</td><td>4</td></tr>",
                            "<tr><td>Novedad integración con la media</td><td>5</td></tr>",
                            "<tr><td>Novedad integración con la media</td><td>6</td></tr>",
                            "<tr><td>Novedad integración con la media</td><td>7</td></tr>",
                            "<tr><td>Novedad integración con la media</td><td>8</td></tr>",
                            "<tr><td>Novedad integración con la media</td><td>9</td></tr>",
                            "<tr><td>Novedad integración con la media</td><td>10</td></tr>",
                            "<tr><td>Novedad integración con la media</td><td>11</td></tr>",
                            "<tr><td>Novedad integración con la media</td><td>12</td></tr>",
                            "<tr><td>Novedad integración con la media</td><td>13</td></tr>",
                            "<tr><td>Novedad integración con la media</td><td>14</td></tr>",
                            "<tr><td>Novedad integración con la media</td><td>15</td></tr>",
                            "<tr><td>Novedad integración con la media</td><td>16</td></tr>",
                            "<tr><td>Novedad integración con la media</td><td>17</td></tr>",
                            "<tr><td>Novedad integración con la media</td><td>18</td></tr>",
                            "<tr><td>Novedad integración con la media</td><td>19</td></tr>",
                            "<tr><td>Novedad integración con la media</td><td>20</td></tr>",
                            "<tr><td>Novedad integración con la media</td><td>21</td></tr>",
                            "<tr><td>Novedad integración con la media</td><td>22</td></tr>",
                            "<tr><td>Novedad integración con la media</td><td>23</td></tr>",
                            "<tr><td>Novedad integración con la media</td><td>24</td></tr>",
                            "<tr><td>Novedad integración con la media</td><td>25</td></tr>",
                            "<tr><td>Novedad integración con la media</td><td>26</td></tr>",
                            "<tr><td>Novedad integración con la media</td><td>27</td></tr>",
                            "<tr><td>Novedad integración con la media</td><td>28</td></tr>",
                            "<tr><td>Novedad integración con la media</td><td>29</td></tr>",
                            "<tr><td>Novedad integración con la media</td><td>30</td></tr>",
                            "<tr><td>Novedad integración con la media</td><td>31</td></tr>",
                            "<tr><td>Novedad integración con la media</td><td>32</td></tr>",
                            "<tr><td>Novedad integración con la media</td><td>33</td></tr>",
                            "<tr><td>Novedad integración con la media</td><td>34</td></tr>",
                            "<tr><td>Novedad integración con la media</td><td>35</td></tr>",
                            "<tr><td>Novedad integración con la media</td><td>36</td></tr>",
                            "<tr><td>Novedad integración con la media</td><td>37</td></tr>",
                            "<tr><td>Novedad integración con la media</td><td>38</td></tr>",
                            "<tr><td>Novedad integración con la media</td><td>39</td></tr>",
                            "<tr><td>Novedad integración con la media</td><td>40</td></tr>",
                            "<tr><td>Novedad integración con la media</td><td>41</td></tr>",
                            "<tr><td>Novedad integración con la media</td><td>42</td></tr>",
                            "<tr><td>Novedad integración con la media</td><td>43</td></tr>",
                            "<tr><td>Novedad integración con la media</td><td>44</td></tr>",
                            "<tr><td>Novedad integración con la media</td><td>45</td></tr>",
                            "<tr><td>Novedad integración con la media</td><td>46</td></tr>",
                            "<tr><td>Novedad integración con la media</td><td>47</td></tr>",
                            "<tr><td>Novedad integración con la media</td><td>48</td></tr>",
                            "<tr><td>Novedad integración con la media</td><td>49</td></tr>",
                            "<tr><td>Novedad integración con la media</td><td>50</td></tr>",
                            "<tr><td>Novedad integración con la media</td><td>51</td></tr>",
                            "<tr><td>Novedad integración con la media</td><td>52</td></tr>",
                            "<tr><td>Novedad integración con la media</td><td>53</td></tr>",
                            "<tr><td>Novedad integración con la media</td><td>54</td></tr>",
                            "<tr><td>Novedad integración con la media</td><td>55</td></tr>",
                            "<tr><td>Novedad integración con la media</td><td>56</td></tr>",
                            "<tr><td>Novedad integración con la media</td><td>57</td></tr>",
                            "<tr><td>Novedad integración con la media</td><td>58</td></tr>",
                            "<tr><td>Novedad integración con la media</td><td>59</td></tr>",
                            "<tr><td>Novedad integración con la media</td><td>60</td></tr>",
                            "<tr><td>Novedad integración con la media</td><td>61</td></tr>",
                            "<tr><td>Novedad integración con la media</td><td>62</td></tr>",
                            "<tr><td>Novedad integración con la media</td><td>63</td></tr>",
                            "<tr><td>Novedad integración con la media</td><td>64</td></tr>",
                            "<tr><td>Novedad integración con la media</td><td>65</td></tr>",
                            "<tr><td>Novedad integración con la media</td><td>66</td></tr>",
                            "<tr><td>Novedad integración con la media</td><td>67</td></tr>",
                            "<tr><td>Novedad integración con la media</td><td>68</td></tr>",
                            "<tr><td>Novedad integración con la media</td><td>69</td></tr>",
                            "<tr><td>Novedad integración con la media</td><td>70</td></tr>",
                            "<tr><td>Novedad integración con la media</td><td>71</td></tr>",
                            "<tr><td>Novedad integración con la media</td><td>72</td></tr>",
                            "<tr><td>Novedad integración con la media</td><td>73</td></tr>",
                            "<tr><td>Novedad integración con la media</td><td>74</td></tr>",
                            "<tr><td>Novedad integración con la media</td><td>75</td></tr>",
                            "<tr><td>Novedad integración con la media</td><td>76</td></tr>",
                            "<tr><td>Novedad integración con la media</td><td>77</td></tr>",
                            "<tr><td>Novedad integración con la media</td><td>78</td></tr>",
                            "<tr><td>Novedad integración con la media</td><td>79</td></tr>",
                            "<tr><td>Novedad integración con la media</td><td>80</td></tr>",
                            "<tr><td>Novedad integración con la media</td><td>81</td></tr>",
                            "<tr><td>Novedad integración con la media</td><td>82</td></tr>",
                            "<tr><td>Novedad integración con la media</td><td>83</td></tr>",
                            "<tr><td>Novedad integración con la media</td><td>84</td></tr>",
                            "<tr><td>Novedad integración con la media</td><td>85</td></tr>",
                            "<tr><td>Novedad integración con la media</td><td>86</td></tr>",
                            "<tr><td>Novedad integración con la media</td><td>87</td></tr>",
                            "<tr><td>Novedad integración con la media</td><td>88</td></tr>",
                            "<tr><td>Novedad integración con la media</td><td>89</td></tr>",
                            "<tr><td>Novedad integración con la media</td><td>90</td></tr>",
                            "<tr><td>Novedad integración con la media</td><td>91</td></tr>",
                            "<tr><td>Novedad integración con la media</td><td>92</td></tr>",
                            "<tr><td>Novedad integración con la media</td><td>93</td></tr>",
                            "<tr><td>Novedad integración con la media</td><td>94</td></tr>",
                            "<tr><td>Novedad integración con la media</td><td>95</td></tr>",
                            "<tr><td>Novedad integración con la media</td><td>96</td></tr>",
                            "<tr><td>Novedad integración con la media</td><td>97</td></tr>",
                            "<tr><td>Novedad integración con la media</td><td>98</td></tr>",
                            "<tr><td>Novedad integración con la media</td><td>99</td></tr>",
                            "<tr><td>Novedad integración con la media</td><td>100</td></tr>",
                            "<tr><td>Novedad integración con la media</td><td>101</td></tr>",
                            "<tr><td>Novedad integración con la media</td><td>102</td></tr>",
                            "<tr><td>Novedad integración con la media</td><td>103</td></tr>",
                            "<tr><td>Novedad integración con la media</td><td>104</td></tr>",
                            "<tr><td>Problemas económicos</td><td>2</td></tr>",
                            "<tr><td>Problemas económicos</td><td>3</td></tr>",
                            "<tr><td>Problemas económicos</td><td>4</td></tr>",
                            "<tr><td>Problemas económicos</td><td>5</td></tr>",
                            "<tr><td>Problemas económicos</td><td>6</td></tr>",
                            "<tr><td>Problemas económicos</td><td>7</td></tr>",
                            "<tr><td>Problemas económicos</td><td>8</td></tr>",
                            "<tr><td>Problemas económicos</td><td>9</td></tr>",
                            "<tr><td>Problemas económicos</td><td>10</td></tr>",
                            "<tr><td>Problemas familiares</td><td>2</td></tr>",
                            "<tr><td>Problemas familiares</td><td>3</td></tr>",
                            "<tr><td>Problemas familiares</td><td>4</td></tr>",
                            "<tr><td>Problemas familiares</td><td>5</td></tr>",
                            "<tr><td>Problemas familiares</td><td>6</td></tr>",
                            "<tr><td>Problemas laborales</td><td>2</td></tr>",
                            "<tr><td>Problemas laborales</td><td>3</td></tr>",
                            "<tr><td>Problemas laborales</td><td>4</td></tr>",
                            "<tr><td>Problemas laborales</td><td>5</td></tr>",
                            "<tr><td>Problemas laborales</td><td>6</td></tr>",
                            "<tr><td>Problemas laborales</td><td>7</td></tr>",
                            "<tr><td>Problemas laborales</td><td>8</td></tr>",
                            "<tr><td>Retiro voluntario</td><td>2</td></tr>",
                            "<tr><td>Retiro voluntario</td><td>3</td></tr>",
                            "<tr><td>Retiro voluntario</td><td>4</td></tr>",
                            "<tr><td>Retiro voluntario</td><td>5</td></tr>",
                            "<tr><td>Retiro voluntario</td><td>6</td></tr>",
                            "<tr><td>Retiro voluntario</td><td>7</td></tr>",
                            "<tr><td>Retiro voluntario</td><td>8</td></tr>",
                            "<tr><td>Retiro voluntario</td><td>9</td></tr>",
                            "<tr><td>Retiro voluntario</td><td>10</td></tr>",
                            "<tr><td>Retiro voluntario</td><td>11</td></tr>",
                            "<tr><td>Retiro voluntario</td><td>12</td></tr>",
                            "<tr><td>Retiro voluntario</td><td>13</td></tr>",
                            "<tr><td>Retiro voluntario</td><td>14</td></tr>",
                            "<tr><td>Retiro voluntario</td><td>15</td></tr>",
                            "<tr><td>Retiro voluntario</td><td>16</td></tr>",
                            "<tr><td>Retiro voluntario</td><td>17</td></tr>",
                            "<tr><td>Retiro voluntario</td><td>18</td></tr>",
                            "<tr><td>Retiro voluntario</td><td>19</td></tr>",
                            "<tr><td>Retiro voluntario</td><td>20</td></tr>",
                            "<tr><td>Retiro voluntario</td><td>21</td></tr>",
                            "<tr><td>Retiro voluntario</td><td>22</td></tr>",
                            "<tr><td>Retiro voluntario</td><td>23</td></tr>",
                            "<tr><td>Retiro voluntario</td><td>24</td></tr>",
                            "<tr><td>Retiro voluntario</td><td>25</td></tr>",
                            "<tr><td>Retiro voluntario</td><td>26</td></tr>",
                            "<tr><td>Retiro voluntario</td><td>27</td></tr>",
                            "<tr><td>Retiro voluntario</td><td>28</td></tr>",
                            "<tr><td>Retiro voluntario</td><td>29</td></tr>",
                            "<tr><td>Retiro voluntario</td><td>30</td></tr>",
                            "<tr><td>Retiro voluntario</td><td>31</td></tr>",
                            "<tr><td>Retiro voluntario</td><td>32</td></tr>",
                            "<tr><td>Retiro voluntario</td><td>33</td></tr>",
                            "<tr><td>Retiro voluntario</td><td>34</td></tr>",
                            "<tr><td>Retiro voluntario</td><td>35</td></tr>",
                            "<tr><td>Retiro voluntario</td><td>36</td></tr>",
                            "<tr><td>Retiro voluntario</td><td>37</td></tr>",
                            "<tr><td>Retiro voluntario</td><td>38</td></tr>",
                            "<tr><td>Retiro voluntario</td><td>39</td></tr>",
                            "<tr><td>Retiro voluntario</td><td>40</td></tr>",
                            "<tr><td>Retiro voluntario</td><td>41</td></tr>",
                            "<tr><td>Retiro voluntario</td><td>42</td></tr>",
                            "<tr><td>Retiro voluntario</td><td>43</td></tr>",
                            "<tr><td>Retiro voluntario</td><td>44</td></tr>",
                            "<tr><td>Retiro voluntario</td><td>45</td></tr>",
                            "<tr><td>Retiro voluntario</td><td>46</td></tr>",
                            "<tr><td>Retiro voluntario</td><td>47</td></tr>",
                            "<tr><td>Retiro voluntario</td><td>48</td></tr>",
                            "<tr><td>Retiro voluntario</td><td>49</td></tr>",
                            "<tr><td>Retiro voluntario</td><td>50</td></tr>",
                            "<tr><td>Retiro voluntario</td><td>51</td></tr>",
                            "<tr><td>Retiro voluntario</td><td>52</td></tr>",
                            "<tr><td>Retiro voluntario</td><td>53</td></tr>",
                            "<tr><td>Retiro voluntario</td><td>54</td></tr>",
                            "<tr><td>Retiro voluntario</td><td>55</td></tr>",
                            "<tr><td>Retiro voluntario</td><td>56</td></tr>",
                            "<tr><td>Retiro voluntario</td><td>57</td></tr>",
                            "<tr><td>Retiro voluntario</td><td>58</td></tr>",
                            "<tr><td>Retiro voluntario</td><td>59</td></tr>",
                            "<tr><td>Retiro voluntario</td><td>60</td></tr>",
                            "<tr><td>Retiro voluntario</td><td>61</td></tr>",
                            "<tr><td>Retiro voluntario</td><td>62</td></tr>",
                            "<tr><td>Retiro voluntario</td><td>63</td></tr>",
                            "<tr><td>Retiro voluntario</td><td>64</td></tr>",
                            "<tr><td>Retiro voluntario</td><td>65</td></tr>",
                            "<tr><td>Retiro voluntario</td><td>66</td></tr>",
                            "<tr><td>Retiro voluntario</td><td>67</td></tr>",
                            "<tr><td>Retiro voluntario</td><td>68</td></tr>",
                            "<tr><td>Retiro voluntario</td><td>69</td></tr>",
                            "<tr><td>Retiro voluntario</td><td>70</td></tr>",
                            "<tr><td>Retiro voluntario</td><td>71</td></tr>",
                            "<tr><td>Retiro voluntario</td><td>72</td></tr>",
                            "<tr><td>Retiro voluntario</td><td>73</td></tr>",
                            "<tr><td>Retiro voluntario</td><td>74</td></tr>",
                            "<tr><td>Retiro voluntario</td><td>75</td></tr>",
                            "<tr><td>Retiro voluntario</td><td>76</td></tr>",
                            "<tr><td>Retiro voluntario</td><td>77</td></tr>",
                            "<tr><td>Retiro voluntario</td><td>78</td></tr>",
                            "<tr><td>Retiro voluntario</td><td>79</td></tr>",
                            "<tr><td>Retiro voluntario</td><td>80</td></tr>",
                            "<tr><td>Retiro voluntario</td><td>81</td></tr>",
                            "<tr><td>Retiro voluntario</td><td>82</td></tr>",
                            "<tr><td>Retiro voluntario</td><td>83</td></tr>",
                            "<tr><td>Retiro voluntario</td><td>84</td></tr>",
                            "<tr><td>Retiro voluntario</td><td>85</td></tr>",
                            "<tr><td>Retiro voluntario</td><td>86</td></tr>",
                            "<tr><td>Retiro voluntario</td><td>87</td></tr>",
                            "<tr><td>Retiro voluntario</td><td>88</td></tr>",
                            "<tr><td>Retiro voluntario</td><td>89</td></tr>",
                            "<tr><td>Retiro voluntario</td><td>90</td></tr>",
                            "<tr><td>Retiro voluntario</td><td>91</td></tr>",
                            "<tr><td>Retiro voluntario</td><td>92</td></tr>",
                            "<tr><td>Retiro voluntario</td><td>93</td></tr>",
                            "<tr><td>Retiro voluntario</td><td>94</td></tr>",
                            "<tr><td>Retiro voluntario</td><td>95</td></tr>",
                            "<tr><td>Retiro voluntario</td><td>96</td></tr>",
                            "<tr><td>Retiro voluntario</td><td>97</td></tr>",
                            "<tr><td>Retiro voluntario</td><td>98</td></tr>",
                            "<tr><td>Retiro voluntario</td><td>99</td></tr>",
                            "<tr><td>Retiro voluntario</td><td>100</td></tr>",
                            "<tr><td>Retiro voluntario</td><td>101</td></tr>",
                            "<tr><td>Retiro voluntario</td><td>102</td></tr>",
                            "<tr><td>Retiro voluntario</td><td>103</td></tr>",
                            "<tr><td>Retiro voluntario</td><td>104</td></tr>",
                            "<tr><td>Retiro voluntario</td><td>105</td></tr>",
                            "<tr><td>Retiro voluntario</td><td>106</td></tr>",
                            "<tr><td>Retiro voluntario</td><td>107</td></tr>",
                            "<tr><td>Retiro voluntario</td><td>108</td></tr>",
                            "<tr><td>Retiro voluntario</td><td>109</td></tr>",
                            "<tr><td>Retiro voluntario</td><td>110</td></tr>",
                            "<tr><td>Retiro voluntario</td><td>111</td></tr>",
                            "<tr><td>Retiro voluntario</td><td>112</td></tr>",
                            "<tr><td>Retiro voluntario</td><td>113</td></tr>",
                            "<tr><td>Retiro voluntario</td><td>114</td></tr>",
                            "<tr><td>Retiro voluntario</td><td>115</td></tr>",
                            "<tr><td>Retiro voluntario</td><td>116</td></tr>",
                            "<tr><td>Retiro voluntario</td><td>117</td></tr>",
                            "<tr><td>Retiro voluntario</td><td>118</td></tr>",
                            "<tr><td>Retiro voluntario</td><td>119</td></tr>",
                            "<tr><td>Retiro voluntario</td><td>120</td></tr>",
                            "<tr><td>Retiro voluntario</td><td>121</td></tr>",
                            "<tr><td>Retiro voluntario</td><td>122</td></tr>",
                            "<tr><td>Retiro voluntario</td><td>123</td></tr>",
                            "<tr><td>Retiro voluntario</td><td>124</td></tr>",
                            "<tr><td>Retiro voluntario</td><td>125</td></tr>",
                            "<tr><td>Retiro voluntario</td><td>126</td></tr>",
                            "<tr><td>Retiro voluntario</td><td>127</td></tr>",
                            "<tr><td>Retiro voluntario</td><td>128</td></tr>",
                            "<tr><td>Retiro voluntario</td><td>129</td></tr>",
                            "<tr><td>Retiro voluntario</td><td>130</td></tr>",
                            "<tr><td>Retiro voluntario</td><td>131</td></tr>",
                            "<tr><td>Retiro voluntario</td><td>132</td></tr>",
                            "<tr><td>Retiro voluntario</td><td>133</td></tr>",
                            "<tr><td>Retiro voluntario</td><td>134</td></tr>",
                            "<tr><td>Retiro voluntario</td><td>135</td></tr>",
                            "<tr><td>Retiro voluntario</td><td>136</td></tr>",
                            "<tr><td>Retiro voluntario</td><td>137</td></tr>",
                            "<tr><td>Retiro voluntario</td><td>138</td></tr>",
                            "<tr><td>Retiro voluntario</td><td>139</td></tr>",
                            "<tr><td>Retiro voluntario</td><td>140</td></tr>",
                            "<tr><td>Retiro voluntario</td><td>141</td></tr>",
                            "<tr><td>Retiro voluntario</td><td>142</td></tr>",
                            "<tr><td>Retiro voluntario</td><td>143</td></tr>",
                            "<tr><td>Retiro voluntario</td><td>144</td></tr>",
                            "<tr><td>Retiro voluntario</td><td>145</td></tr>",
                            "<tr><td>Retiro voluntario</td><td>146</td></tr>",
                            "<tr><td>Retiro voluntario</td><td>147</td></tr>",
                            "<tr><td>Retiro voluntario</td><td>148</td></tr>",
                            "<tr><td>Retiro voluntario</td><td>149</td></tr>",
                            "<tr><td>Retiro voluntario</td><td>150</td></tr>",
                            "<tr><td>Retiro voluntario</td><td>151</td></tr>",
                            "<tr><td>Retiro voluntario</td><td>152</td></tr>",
                            "<tr><td>Retiro voluntario</td><td>153</td></tr>",
                            "<tr><td>Retiro voluntario</td><td>154</td></tr>",
                            "<tr><td>Retiro voluntario</td><td>155</td></tr>",
                            "<tr><td>Retiro voluntario</td><td>156</td></tr>",
                            "<tr><td>Retiro voluntario</td><td>157</td></tr>",
                            "<tr><td>Retiro voluntario</td><td>158</td></tr>",
                            "<tr><td>Retiro voluntario</td><td>159</td></tr>",
                            "<tr><td>Retiro voluntario</td><td>160</td></tr>",
                            "<tr><td>Retiro voluntario</td><td>161</td></tr>",
                            "<tr><td>Retiro voluntario</td><td>162</td></tr>",
                            "<tr><td>Retiro voluntario</td><td>163</td></tr>",
                            "<tr><td>Retiro voluntario</td><td>164</td></tr>",
                            "<tr><td>Retiro voluntario</td><td>165</td></tr>",
                            "<tr><td>Retiro voluntario</td><td>166</td></tr>",
                            "<tr><td>Retiro voluntario</td><td>167</td></tr>",
                            "<tr><td>Retiro voluntario</td><td>168</td></tr>",
                            "<tr><td>Retiro voluntario</td><td>169</td></tr>",
                            "<tr><td>Retiro voluntario</td><td>170</td></tr>",
                            "<tr><td>Retiro voluntario</td><td>171</td></tr>",
                            "<tr><td>Retiro voluntario</td><td>172</td></tr>",
                            "<tr><td>Retiro voluntario</td><td>173</td></tr>",
                            "<tr><td>Retiro voluntario</td><td>174</td></tr>",
                            "<tr><td>Retiro voluntario</td><td>175</td></tr>",
                            "<tr><td>Retiro voluntario</td><td>176</td></tr>",
                            "<tr><td>Retiro voluntario</td><td>177</td></tr>",
                            "<tr><td>Retiro voluntario</td><td>178</td></tr>",
                            "<tr><td>Retiro voluntario</td><td>179</td></tr>",
                            "<tr><td>Retiro voluntario</td><td>180</td></tr>",
                            "<tr><td>Retiro voluntario</td><td>181</td></tr>",
                            "<tr><td>Retiro voluntario</td><td>182</td></tr>",
                            "<tr><td>Retiro voluntario</td><td>183</td></tr>",
                            "<tr><td>Retiro voluntario</td><td>184</td></tr>",
                            "<tr><td>Retiro voluntario</td><td>185</td></tr>",
                            "<tr><td>Retiro voluntario</td><td>186</td></tr>",
                            "<tr><td>Retiro voluntario</td><td>187</td></tr>",
                            "<tr><td>Retiro voluntario</td><td>188</td></tr>",
                            "<tr><td>Retiro voluntario</td><td>189</td></tr>",
                            "<tr><td>Retiro voluntario</td><td>190</td></tr>",
                            "<tr><td>Retiro voluntario</td><td>191</td></tr>",
                            "<tr><td>Retiro voluntario</td><td>192</td></tr>",
                            "<tr><td>Retiro voluntario</td><td>193</td></tr>",
                            "<tr><td>Retiro voluntario</td><td>194</td></tr>",
                            "<tr><td>Retiro voluntario</td><td>195</td></tr>",
                            "<tr><td>Retiro voluntario</td><td>196</td></tr>",
                            "<tr><td>Retiro voluntario</td><td>197</td></tr>",
                            "<tr><td>Retiro voluntario</td><td>198</td></tr>",
                            "<tr><td>Retiro voluntario</td><td>199</td></tr>",
                            "<tr><td>Retiro voluntario</td><td>200</td></tr>",
                            "<tr><td>Retiro voluntario</td><td>201</td></tr>",
                            "<tr><td>Retiro voluntario</td><td>202</td></tr>",
                            "<tr><td>Retiro voluntario</td><td>203</td></tr>",
                            "<tr><td>Retiro voluntario</td><td>204</td></tr>",
                            "<tr><td>Retiro voluntario</td><td>205</td></tr>",
                            "<tr><td>Retiro voluntario</td><td>206</td></tr>",
                            "<tr><td>Retiro voluntario</td><td>207</td></tr>",
                            "<tr><td>Retiro voluntario</td><td>208</td></tr>",
                            "<tr><td>Retiro voluntario</td><td>209</td></tr>",
                            "<tr><td>Retiro voluntario</td><td>210</td></tr>",
                            "<tr><td>Retiro voluntario</td><td>211</td></tr>",
                            "<tr><td>Retiro voluntario</td><td>212</td></tr>",
                            "<tr><td>Retiro voluntario</td><td>213</td></tr>",
                            "<tr><td>Retiro voluntario</td><td>214</td></tr>",
                            "<tr><td>Retiro voluntario</td><td>215</td></tr>",
                            "<tr><td>Retiro voluntario</td><td>216</td></tr>",
                            "<tr><td>Retiro voluntario</td><td>217</td></tr>",
                            "<tr><td>Retiro voluntario</td><td>218</td></tr>",
                            "<tr><td>Retiro voluntario</td><td>219</td></tr>",
                            "<tr><td>Retiro voluntario</td><td>220</td></tr>",
                            "<tr><td>Retiro voluntario</td><td>221</td></tr>",
                            "<tr><td>Retiro voluntario</td><td>222</td></tr>",
                            "<tr><td>Retiro voluntario</td><td>223</td></tr>",
                            "<tr><td>Retiro voluntario</td><td>224</td></tr>",
                            "<tr><td>Retiro voluntario</td><td>225</td></tr>",
                            "<tr><td>Retiro voluntario</td><td>226</td></tr>",
                            "<tr><td>Retiro voluntario</td><td>227</td></tr>",
                            "<tr><td>Retiro voluntario</td><td>228</td></tr>",
                            "<tr><td>Retiro voluntario</td><td>229</td></tr>",
                            "<tr><td>Retiro voluntario</td><td>230</td></tr>",
                            "<tr><td>Retiro voluntario</td><td>231</td></tr>",
                            "<tr><td>Retiro voluntario</td><td>232</td></tr>",
                            "<tr><td>Retiro voluntario</td><td>233</td></tr>",
                            "<tr><td>Retiro voluntario</td><td>234</td></tr>",
                            "<tr><td>Retiro voluntario</td><td>235</td></tr>",
                            "<tr><td>Retiro voluntario</td><td>236</td></tr>",
                            "<tr><td>Retiro voluntario</td><td>237</td></tr>",
                            "<tr><td>Retiro voluntario</td><td>238</td></tr>",
                            "<tr><td>Retiro voluntario</td><td>239</td></tr>",
                            "<tr><td>Retiro voluntario</td><td>240</td></tr>",
                            "<tr><td>Retiro voluntario</td><td>241</td></tr>",
                            "<tr><td>Retiro voluntario</td><td>242</td></tr>",
                            "<tr><td>Retiro voluntario</td><td>243</td></tr>",
                            "<tr><td>Retiro voluntario</td><td>244</td></tr>",
                            "<tr><td>Retiro voluntario</td><td>245</td></tr>",
                            "<tr><td>Retiro voluntario</td><td>246</td></tr>",
                            "<tr><td>Retiro voluntario</td><td>247</td></tr>",
                            "<tr><td>Retiro voluntario</td><td>248</td></tr>",
                            "<tr><td>Retiro voluntario</td><td>249</td></tr>",
                            "<tr><td>Retiro voluntario</td><td>250</td></tr>",
                            "<tr><td>Retiro voluntario</td><td>251</td></tr>",
                            "<tr><td>Retiro voluntario</td><td>252</td></tr>",
                            "<tr><td>Retiro voluntario</td><td>253</td></tr>",
                            "<tr><td>Retiro voluntario</td><td>254</td></tr>",
                            "<tr><td>Retiro voluntario</td><td>255</td></tr>",
                            "<tr><td>Retiro voluntario</td><td>256</td></tr>",
                            "<tr><td>Retiro voluntario</td><td>257</td></tr>",
                            "<tr><td>Retiro voluntario</td><td>258</td></tr>",
                            "<tr><td>Retiro voluntario</td><td>259</td></tr>",
                            "<tr><td>Retiro voluntario</td><td>260</td></tr>",
                            "<tr><td>Retiro voluntario</td><td>261</td></tr>",
                            "<tr><td>Retiro voluntario</td><td>262</td></tr>",
                            "<tr><td>Retiro voluntario</td><td>263</td></tr>",
                            "<tr><td>Retiro voluntario</td><td>264</td></tr>",
                            "<tr><td>Retiro voluntario</td><td>265</td></tr>",
                            "<tr><td>Retiro voluntario</td><td>266</td></tr>",
                            "<tr><td>Retiro voluntario</td><td>267</td></tr>",
                            "<tr><td>Retiro voluntario</td><td>268</td></tr>",
                            "<tr><td>Retiro voluntario</td><td>269</td></tr>",
                            "<tr><td>Retiro voluntario</td><td>270</td></tr>",
                            "<tr><td>Retiro voluntario</td><td>271</td></tr>",
                            "<tr><td>Retiro voluntario</td><td>272</td></tr>",
                            "<tr><td>Retiro voluntario</td><td>273</td></tr>",
                            "<tr><td>Retiro voluntario</td><td>274</td></tr>",
                            "<tr><td>Retiro voluntario</td><td>275</td></tr>",
                            "<tr><td>Retiro voluntario</td><td>276</td></tr>",
                            "<tr><td>Retiro voluntario</td><td>277</td></tr>",
                            "<tr><td>Retiro voluntario</td><td>278</td></tr>",
                            "<tr><td>Retiro voluntario</td><td>279</td></tr>",
                            "<tr><td>Retiro voluntario</td><td>280</td></tr>",
                            "<tr><td>Retiro voluntario</td><td>281</td></tr>",
                            "<tr><td>Retiro voluntario</td><td>282</td></tr>",
                            "<tr><td>Retiro voluntario</td><td>283</td></tr>",
                            "<tr><td>Retiro voluntario</td><td>284</td></tr>",
                            "<tr><td>Retiro voluntario</td><td>285</td></tr>",
                            "<tr><td>Retiro voluntario</td><td>286</td></tr>",
                            "<tr><td>Retiro voluntario</td><td>287</td></tr>",
                            "<tr><td>Retiro voluntario</td><td>288</td></tr>",
                            "<tr><td>Retiro voluntario</td><td>289</td></tr>",
                            "<tr><td>Retiro voluntario</td><td>290</td></tr>",
                            "<tr><td>Retiro voluntario</td><td>291</td></tr>",
                            "<tr><td>Retiro voluntario</td><td>292</td></tr>",
                            "<tr><td>Retiro voluntario</td><td>293</td></tr>",
                            "<tr><td>Retiro voluntario</td><td>294</td></tr>",
                            "<tr><td>Retiro voluntario</td><td>295</td></tr>",
                            "<tr><td>Retiro voluntario</td><td>296</td></tr>",
                            "<tr><td>Retiro voluntario</td><td>297</td></tr>",
                            "<tr><td>Retiro voluntario</td><td>298</td></tr>",
                            "<tr><td>Retiro voluntario</td><td>299</td></tr>",
                            "<tr><td>Retiro voluntario</td><td>300</td></tr>",
                            "<tr><td>Retiro voluntario</td><td>301</td></tr>",
                            "<tr><td>Retiro voluntario</td><td>302</td></tr>",
                            "<tr><td>Retiro voluntario</td><td>303</td></tr>",
                            "<tr><td>Retiro voluntario</td><td>304</td></tr>",
                            "<tr><td>Retiro voluntario</td><td>305</td></tr>",
                            "</table>"
                        ]
                    }
                }
            ],
            "execution_count": 71
        },
        {
            "cell_type": "code",
            "source": [
                "ALTER TABLE [dbo].[Programa_ficha]\r\n",
                "    WITH CHECK ADD FOREIGN KEY ([Codigo_programa]) REFERENCES [dbo].[Programa]([Codigo_programa]);\r\n",
                ""
            ],
            "metadata": {
                "azdata_cell_guid": "e32fa82f-46de-416e-8fb1-788f6086b8ae",
                "language": "sql"
            },
            "outputs": [
                {
                    "output_type": "display_data",
                    "data": {
                        "text/html": "Los comandos se han completado correctamente."
                    },
                    "metadata": {}
                },
                {
                    "output_type": "display_data",
                    "data": {
                        "text/html": "Tiempo total de ejecución: 00:00:00.002"
                    },
                    "metadata": {}
                }
            ],
            "execution_count": 80
        },
        {
            "cell_type": "code",
            "source": [
                "ALTER TABLE [dbo].[Programa_ficha]\r\n",
                "    WITH CHECK ADD FOREIGN KEY ([Codigo_ficha]) REFERENCES [dbo].[Ficha]([Codigo_ficha]);\r\n",
                ""
            ],
            "metadata": {
                "language": "sql",
                "azdata_cell_guid": "b464b1fc-d64b-4ea5-9ace-a467c0d54b2b"
            },
            "outputs": [
                {
                    "output_type": "display_data",
                    "data": {
                        "text/html": "Los comandos se han completado correctamente."
                    },
                    "metadata": {}
                },
                {
                    "output_type": "display_data",
                    "data": {
                        "text/html": "Tiempo total de ejecución: 00:00:00.009"
                    },
                    "metadata": {}
                }
            ],
            "execution_count": 41
        },
        {
            "cell_type": "code",
            "source": [
                "SELECT COUNT(*)\r\n",
                "FROM Aprendiz;\r\n",
                "GO\r\n",
                "\r\n",
                "SELECT COUNT(*)\r\n",
                "FROM Ficha;\r\n",
                "GO\r\n",
                "\r\n",
                "SELECT COUNT(*)\r\n",
                "FROM Programa;\r\n",
                "GO\r\n",
                "\r\n",
                "SELECT COUNT(*)\r\n",
                "FROM Inventario;\r\n",
                "GO\r\n",
                "\r\n",
                "SELECT COUNT(*)\r\n",
                "FROM Novedad;\r\n",
                ""
            ],
            "metadata": {
                "language": "sql",
                "azdata_cell_guid": "f03e00ed-2bde-4310-825f-b97275737dcd"
            },
            "outputs": [
                {
                    "output_type": "display_data",
                    "data": {
                        "text/html": "(1 fila afectada)"
                    },
                    "metadata": {}
                },
                {
                    "output_type": "display_data",
                    "data": {
                        "text/html": "(1 fila afectada)"
                    },
                    "metadata": {}
                },
                {
                    "output_type": "display_data",
                    "data": {
                        "text/html": "(1 fila afectada)"
                    },
                    "metadata": {}
                },
                {
                    "output_type": "display_data",
                    "data": {
                        "text/html": "(1 fila afectada)"
                    },
                    "metadata": {}
                },
                {
                    "output_type": "display_data",
                    "data": {
                        "text/html": "(1 fila afectada)"
                    },
                    "metadata": {}
                },
                {
                    "output_type": "display_data",
                    "data": {
                        "text/html": "Tiempo total de ejecución: 00:00:00.024"
                    },
                    "metadata": {}
                },
                {
                    "output_type": "execute_result",
                    "metadata": {},
                    "execution_count": 73,
                    "data": {
                        "application/vnd.dataresource+json": {
                            "schema": {
                                "fields": [
                                    {
                                        "name": "(Sin nombre de columna)"
                                    }
                                ]
                            },
                            "data": [
                                {
                                    "(Sin nombre de columna)": "1524"
                                }
                            ]
                        },
                        "text/html": [
                            "<table>",
                            "<tr><th>(Sin nombre de columna)</th></tr>",
                            "<tr><td>1524</td></tr>",
                            "</table>"
                        ]
                    }
                },
                {
                    "output_type": "execute_result",
                    "metadata": {},
                    "execution_count": 73,
                    "data": {
                        "application/vnd.dataresource+json": {
                            "schema": {
                                "fields": [
                                    {
                                        "name": "(Sin nombre de columna)"
                                    }
                                ]
                            },
                            "data": [
                                {
                                    "(Sin nombre de columna)": "330"
                                }
                            ]
                        },
                        "text/html": [
                            "<table>",
                            "<tr><th>(Sin nombre de columna)</th></tr>",
                            "<tr><td>330</td></tr>",
                            "</table>"
                        ]
                    }
                },
                {
                    "output_type": "execute_result",
                    "metadata": {},
                    "execution_count": 73,
                    "data": {
                        "application/vnd.dataresource+json": {
                            "schema": {
                                "fields": [
                                    {
                                        "name": "(Sin nombre de columna)"
                                    }
                                ]
                            },
                            "data": [
                                {
                                    "(Sin nombre de columna)": "80"
                                }
                            ]
                        },
                        "text/html": [
                            "<table>",
                            "<tr><th>(Sin nombre de columna)</th></tr>",
                            "<tr><td>80</td></tr>",
                            "</table>"
                        ]
                    }
                },
                {
                    "output_type": "execute_result",
                    "metadata": {},
                    "execution_count": 73,
                    "data": {
                        "application/vnd.dataresource+json": {
                            "schema": {
                                "fields": [
                                    {
                                        "name": "(Sin nombre de columna)"
                                    }
                                ]
                            },
                            "data": [
                                {
                                    "(Sin nombre de columna)": "1673"
                                }
                            ]
                        },
                        "text/html": [
                            "<table>",
                            "<tr><th>(Sin nombre de columna)</th></tr>",
                            "<tr><td>1673</td></tr>",
                            "</table>"
                        ]
                    }
                },
                {
                    "output_type": "execute_result",
                    "metadata": {},
                    "execution_count": 73,
                    "data": {
                        "application/vnd.dataresource+json": {
                            "schema": {
                                "fields": [
                                    {
                                        "name": "(Sin nombre de columna)"
                                    }
                                ]
                            },
                            "data": [
                                {
                                    "(Sin nombre de columna)": "19"
                                }
                            ]
                        },
                        "text/html": [
                            "<table>",
                            "<tr><th>(Sin nombre de columna)</th></tr>",
                            "<tr><td>19</td></tr>",
                            "</table>"
                        ]
                    }
                }
            ],
            "execution_count": 73
        },
        {
            "cell_type": "code",
            "source": [
                "-- Asegurar unicidad en Codigo_ficha en Ficha\r\n",
                "ALTER TABLE [dbo].[Novedad] ADD CONSTRAINT UQ_Novedad_tipo_novedad UNIQUE ([tipo_novedad]);\r\n",
                ""
            ],
            "metadata": {
                "azdata_cell_guid": "1ddc90c0-0724-4c1e-8aec-40e1e5600405",
                "language": "sql"
            },
            "outputs": [
                {
                    "output_type": "display_data",
                    "data": {
                        "text/html": "Los comandos se han completado correctamente."
                    },
                    "metadata": {}
                },
                {
                    "output_type": "display_data",
                    "data": {
                        "text/html": "Tiempo total de ejecución: 00:00:00.005"
                    },
                    "metadata": {}
                }
            ],
            "execution_count": 72
        },
        {
            "cell_type": "code",
            "source": [
                "-- Agregar la clave foránea a la tabla Programa_ficha\r\n",
                "ALTER TABLE [dbo].[Programa_ficha]\r\n",
                "    WITH CHECK ADD CONSTRAINT FK_Programa_ficha_programa FOREIGN KEY ([Codigo_programa]) REFERENCES [dbo].[Programa]([Codigo_programa]);\r\n",
                "GO\r\n",
                "\r\n",
                "-- Agregar la clave foránea a la tabla Programa_ficha\r\n",
                "ALTER TABLE [dbo].[Programa_ficha]\r\n",
                "    WITH CHECK ADD CONSTRAINT FK_Programa_ficha_ficha FOREIGN KEY ([Codigo_ficha]) REFERENCES [dbo].[Ficha]([Codigo_ficha]);\r\n",
                ""
            ],
            "metadata": {
                "azdata_cell_guid": "af557070-e1b8-4adf-a2fb-6aecff2efdd5",
                "language": "sql"
            },
            "outputs": [
                {
                    "output_type": "display_data",
                    "data": {
                        "text/html": "Los comandos se han completado correctamente."
                    },
                    "metadata": {}
                },
                {
                    "output_type": "display_data",
                    "data": {
                        "text/html": "Los comandos se han completado correctamente."
                    },
                    "metadata": {}
                },
                {
                    "output_type": "display_data",
                    "data": {
                        "text/html": "Tiempo total de ejecución: 00:00:00.005"
                    },
                    "metadata": {}
                }
            ],
            "execution_count": 75
        },
        {
            "cell_type": "code",
            "source": [
                "-- Agregar la clave foránea a la tabla Aprendiz_novedad\r\n",
                "ALTER TABLE [dbo].[Aprendiz_novedad]\r\n",
                "    WITH CHECK ADD CONSTRAINT FK_Aprendiz_novedad_aprendiz FOREIGN KEY ([Numero_documento]) REFERENCES [dbo].[Aprendiz]([Numero_documento]);\r\n",
                "GO\r\n",
                ""
            ],
            "metadata": {
                "azdata_cell_guid": "f91725fc-b78a-4b49-ae62-3f40032f065b",
                "language": "sql"
            },
            "outputs": [
                {
                    "output_type": "display_data",
                    "data": {
                        "text/html": "Los comandos se han completado correctamente."
                    },
                    "metadata": {}
                },
                {
                    "output_type": "error",
                    "evalue": "Msg 547, Level 16, State 0, Line 7\r\nThe ALTER TABLE statement conflicted with the FOREIGN KEY constraint \"FK_Aprendiz_novedad_novedad\". The conflict occurred in database \"AprendicesDB\", table \"dbo.Novedad\", column 'Id_novedad'.",
                    "ename": "",
                    "traceback": []
                },
                {
                    "output_type": "display_data",
                    "data": {
                        "text/html": "Tiempo total de ejecución: 00:00:00.015"
                    },
                    "metadata": {}
                }
            ],
            "execution_count": 76
        },
        {
            "cell_type": "code",
            "source": [
                "-- Agregar la clave foránea a la tabla Aprendiz_novedad\r\n",
                "ALTER TABLE [dbo].[Aprendiz_novedad]\r\n",
                "    WITH CHECK ADD CONSTRAINT FK_Aprendiz_novedad_novedad FOREIGN KEY ([Id_novedad]) REFERENCES [dbo].[Novedad]([Id_novedad]);\r\n",
                ""
            ],
            "metadata": {
                "language": "sql",
                "azdata_cell_guid": "3f4b6ec2-7648-4507-953e-051f3c7dda1d",
                "tags": [
                    "hide_input"
                ]
            },
            "outputs": [
                {
                    "output_type": "error",
                    "evalue": "Msg 547, Level 16, State 0, Line 2\r\nThe ALTER TABLE statement conflicted with the FOREIGN KEY constraint \"FK_Aprendiz_novedad_novedad\". The conflict occurred in database \"AprendicesDB\", table \"dbo.Novedad\", column 'Id_novedad'.",
                    "ename": "",
                    "traceback": []
                },
                {
                    "output_type": "display_data",
                    "data": {
                        "text/html": "Tiempo total de ejecución: 00:00:00.011"
                    },
                    "metadata": {}
                }
            ],
            "execution_count": 79
        },
        {
            "cell_type": "code",
            "source": [
                ""
            ],
            "metadata": {
                "azdata_cell_guid": "a5508e55-b73e-499d-bb1e-1b7f295d62f9",
                "language": "sql"
            },
            "outputs": [
                {
                    "output_type": "display_data",
                    "data": {
                        "text/html": "Los comandos se han completado correctamente."
                    },
                    "metadata": {}
                },
                {
                    "output_type": "display_data",
                    "data": {
                        "text/html": "Tiempo total de ejecución: 00:00:00"
                    },
                    "metadata": {}
                }
            ],
            "execution_count": 82
        }
    ]
}